{
  "nbformat": 4,
  "nbformat_minor": 0,
  "metadata": {
    "colab": {
      "name": "Competition3_solution.ipynb",
      "provenance": [],
      "toc_visible": true,
      "machine_shape": "hm"
    },
    "kernelspec": {
      "name": "python3",
      "display_name": "Python 3"
    }
  },
  "cells": [
    {
      "cell_type": "code",
      "metadata": {
        "id": "QcLGASdIvfRC",
        "colab_type": "code",
        "colab": {}
      },
      "source": [
        "import re\n",
        "import spacy\n",
        "import io\n",
        "import numpy as np\n",
        "import pandas as pd\n",
        "import matplotlib.pyplot as plt\n",
        "import seaborn as sns\n",
        "import scipy.optimize as opt\n",
        "\n",
        "from wordcloud import WordCloud\n",
        "from bs4 import BeautifulSoup\n",
        "\n",
        "from sklearn.model_selection import train_test_split, learning_curve\n",
        "from sklearn.metrics import f1_score, make_scorer, accuracy_score\n",
        "from sklearn.preprocessing import MultiLabelBinarizer, LabelEncoder\n",
        "from sklearn.feature_extraction.text import TfidfVectorizer, CountVectorizer\n",
        "from sklearn.decomposition import TruncatedSVD\n",
        "from sklearn.compose import ColumnTransformer\n",
        "from sklearn.pipeline import Pipeline\n",
        "from sklearn.svm import LinearSVC\n",
        "from sklearn.linear_model import LogisticRegression, SGDClassifier\n",
        "from sklearn.multiclass import OneVsRestClassifier\n",
        "from sklearn.model_selection import RandomizedSearchCV\n",
        "from sklearn.calibration import CalibratedClassifierCV\n",
        "from sklearn.multioutput import ClassifierChain\n",
        "from sklearn.base import BaseEstimator, ClassifierMixin"
      ],
      "execution_count": 0,
      "outputs": []
    },
    {
      "cell_type": "code",
      "metadata": {
        "id": "NvSy_73T8tQb",
        "colab_type": "code",
        "outputId": "1825264d-db6d-454c-86cf-7052d0bb4eac",
        "colab": {
          "base_uri": "https://localhost:8080/",
          "height": 208
        }
      },
      "source": [
        "from nltk.stem import SnowballStemmer\n",
        "from nltk.stem.wordnet import WordNetLemmatizer\n",
        "from nltk import word_tokenize, pos_tag_sents, pos_tag\n",
        "from nltk.corpus import wordnet, stopwords\n",
        "from nltk.tokenize import RegexpTokenizer\n",
        "\n",
        "import nltk\n",
        "nltk.download('wordnet')\n",
        "nltk.download('stopwords')\n",
        "nltk.download('punkt')\n",
        "nltk.download('averaged_perceptron_tagger')"
      ],
      "execution_count": 2,
      "outputs": [
        {
          "output_type": "stream",
          "text": [
            "[nltk_data] Downloading package wordnet to /root/nltk_data...\n",
            "[nltk_data]   Package wordnet is already up-to-date!\n",
            "[nltk_data] Downloading package stopwords to /root/nltk_data...\n",
            "[nltk_data]   Package stopwords is already up-to-date!\n",
            "[nltk_data] Downloading package punkt to /root/nltk_data...\n",
            "[nltk_data]   Package punkt is already up-to-date!\n",
            "[nltk_data] Downloading package averaged_perceptron_tagger to\n",
            "[nltk_data]     /root/nltk_data...\n",
            "[nltk_data]   Package averaged_perceptron_tagger is already up-to-\n",
            "[nltk_data]       date!\n"
          ],
          "name": "stdout"
        },
        {
          "output_type": "execute_result",
          "data": {
            "text/plain": [
              "True"
            ]
          },
          "metadata": {
            "tags": []
          },
          "execution_count": 2
        }
      ]
    },
    {
      "cell_type": "markdown",
      "metadata": {
        "id": "X27I5I9LE2mT",
        "colab_type": "text"
      },
      "source": [
        "## Задача"
      ]
    },
    {
      "cell_type": "markdown",
      "metadata": {
        "id": "tCJag4BJE4ol",
        "colab_type": "text"
      },
      "source": [
        "По данным заголовкам и текстам вопросов с $\\text{Stack Overflow}$ научиться предсказывать к каким тэгам отнести вопрос."
      ]
    },
    {
      "cell_type": "markdown",
      "metadata": {
        "id": "k1c9_dd4vyJr",
        "colab_type": "text"
      },
      "source": [
        "## Чтение данных\n"
      ]
    },
    {
      "cell_type": "code",
      "metadata": {
        "id": "oeECTOm_wR2x",
        "colab_type": "code",
        "colab": {}
      },
      "source": [
        "X_train = pd.read_csv('train/X_train.csv')\n",
        "Y_train = pd.read_csv('train/Y_train.csv')"
      ],
      "execution_count": 0,
      "outputs": []
    },
    {
      "cell_type": "code",
      "metadata": {
        "id": "FUhblHSbFSBK",
        "colab_type": "code",
        "outputId": "6741ce19-f8fa-4e88-f087-5b3e16c685c4",
        "colab": {
          "base_uri": "https://localhost:8080/",
          "height": 387
        }
      },
      "source": [
        "display(X_train.head())\n",
        "display(Y_train.head())"
      ],
      "execution_count": 4,
      "outputs": [
        {
          "output_type": "display_data",
          "data": {
            "text/html": [
              "<div>\n",
              "<style scoped>\n",
              "    .dataframe tbody tr th:only-of-type {\n",
              "        vertical-align: middle;\n",
              "    }\n",
              "\n",
              "    .dataframe tbody tr th {\n",
              "        vertical-align: top;\n",
              "    }\n",
              "\n",
              "    .dataframe thead th {\n",
              "        text-align: right;\n",
              "    }\n",
              "</style>\n",
              "<table border=\"1\" class=\"dataframe\">\n",
              "  <thead>\n",
              "    <tr style=\"text-align: right;\">\n",
              "      <th></th>\n",
              "      <th>id</th>\n",
              "      <th>title</th>\n",
              "      <th>body</th>\n",
              "    </tr>\n",
              "  </thead>\n",
              "  <tbody>\n",
              "    <tr>\n",
              "      <th>0</th>\n",
              "      <td>56685310</td>\n",
              "      <td>onNext method doesn't fire on observable</td>\n",
              "      <td>&lt;p&gt;I have a method that returns an observable ...</td>\n",
              "    </tr>\n",
              "    <tr>\n",
              "      <th>1</th>\n",
              "      <td>55893408</td>\n",
              "      <td>TextView not positioning under ImagevVew in `C...</td>\n",
              "      <td>&lt;p&gt;I am developing android news app. and in my...</td>\n",
              "    </tr>\n",
              "    <tr>\n",
              "      <th>2</th>\n",
              "      <td>55807871</td>\n",
              "      <td>Deploying a firebase functions</td>\n",
              "      <td>&lt;p&gt;i'm trying to deploy my functions on fireba...</td>\n",
              "    </tr>\n",
              "    <tr>\n",
              "      <th>3</th>\n",
              "      <td>54842410</td>\n",
              "      <td>Share C++11 mutex on shared memory</td>\n",
              "      <td>&lt;p&gt;I want to avoid data racing in a shared mem...</td>\n",
              "    </tr>\n",
              "    <tr>\n",
              "      <th>4</th>\n",
              "      <td>55572776</td>\n",
              "      <td>Cleaning data: How to iterate through a list f...</td>\n",
              "      <td>&lt;p&gt;I am trying to iterate through a list of da...</td>\n",
              "    </tr>\n",
              "  </tbody>\n",
              "</table>\n",
              "</div>"
            ],
            "text/plain": [
              "         id  ...                                               body\n",
              "0  56685310  ...  <p>I have a method that returns an observable ...\n",
              "1  55893408  ...  <p>I am developing android news app. and in my...\n",
              "2  55807871  ...  <p>i'm trying to deploy my functions on fireba...\n",
              "3  54842410  ...  <p>I want to avoid data racing in a shared mem...\n",
              "4  55572776  ...  <p>I am trying to iterate through a list of da...\n",
              "\n",
              "[5 rows x 3 columns]"
            ]
          },
          "metadata": {
            "tags": []
          }
        },
        {
          "output_type": "display_data",
          "data": {
            "text/html": [
              "<div>\n",
              "<style scoped>\n",
              "    .dataframe tbody tr th:only-of-type {\n",
              "        vertical-align: middle;\n",
              "    }\n",
              "\n",
              "    .dataframe tbody tr th {\n",
              "        vertical-align: top;\n",
              "    }\n",
              "\n",
              "    .dataframe thead th {\n",
              "        text-align: right;\n",
              "    }\n",
              "</style>\n",
              "<table border=\"1\" class=\"dataframe\">\n",
              "  <thead>\n",
              "    <tr style=\"text-align: right;\">\n",
              "      <th></th>\n",
              "      <th>Id</th>\n",
              "      <th>Expected</th>\n",
              "    </tr>\n",
              "  </thead>\n",
              "  <tbody>\n",
              "    <tr>\n",
              "      <th>0</th>\n",
              "      <td>56685310</td>\n",
              "      <td>angular</td>\n",
              "    </tr>\n",
              "    <tr>\n",
              "      <th>1</th>\n",
              "      <td>55893408</td>\n",
              "      <td>android java</td>\n",
              "    </tr>\n",
              "    <tr>\n",
              "      <th>2</th>\n",
              "      <td>55807871</td>\n",
              "      <td>firebase</td>\n",
              "    </tr>\n",
              "    <tr>\n",
              "      <th>3</th>\n",
              "      <td>54842410</td>\n",
              "      <td>c++</td>\n",
              "    </tr>\n",
              "    <tr>\n",
              "      <th>4</th>\n",
              "      <td>55572776</td>\n",
              "      <td>list python</td>\n",
              "    </tr>\n",
              "  </tbody>\n",
              "</table>\n",
              "</div>"
            ],
            "text/plain": [
              "         Id      Expected\n",
              "0  56685310       angular\n",
              "1  55893408  android java\n",
              "2  55807871      firebase\n",
              "3  54842410           c++\n",
              "4  55572776   list python"
            ]
          },
          "metadata": {
            "tags": []
          }
        }
      ]
    },
    {
      "cell_type": "markdown",
      "metadata": {
        "id": "99wptlkYtIf4",
        "colab_type": "text"
      },
      "source": [
        "Уберем дубликаты"
      ]
    },
    {
      "cell_type": "code",
      "metadata": {
        "id": "l1oDADXstKfH",
        "colab_type": "code",
        "colab": {}
      },
      "source": [
        "X_train.drop_duplicates(['title', 'body'], inplace=True)\n",
        "Y_train = Y_train.loc[X_train.index]"
      ],
      "execution_count": 0,
      "outputs": []
    },
    {
      "cell_type": "markdown",
      "metadata": {
        "id": "vBZS4IVoF8Ge",
        "colab_type": "text"
      },
      "source": [
        "Проверим, что все $\\text{id}$ уникальны"
      ]
    },
    {
      "cell_type": "code",
      "metadata": {
        "id": "3rQ1YVuUFqor",
        "colab_type": "code",
        "outputId": "5b654b0c-b261-40ad-9394-575fc6c0dc44",
        "colab": {
          "base_uri": "https://localhost:8080/",
          "height": 35
        }
      },
      "source": [
        "X_train.shape[0] == X_train.id.nunique()"
      ],
      "execution_count": 6,
      "outputs": [
        {
          "output_type": "execute_result",
          "data": {
            "text/plain": [
              "True"
            ]
          },
          "metadata": {
            "tags": []
          },
          "execution_count": 6
        }
      ]
    },
    {
      "cell_type": "markdown",
      "metadata": {
        "id": "DDSiyEqTvyAh",
        "colab_type": "text"
      },
      "source": [
        "Возьмем малую подвыбрку данных, чтобы сократить вычислительное время"
      ]
    },
    {
      "cell_type": "code",
      "metadata": {
        "id": "4dyIwJGFv7Og",
        "colab_type": "code",
        "colab": {}
      },
      "source": [
        "X_train = X_train.iloc[:100000]\n",
        "Y_train = Y_train.iloc[:100000]"
      ],
      "execution_count": 0,
      "outputs": []
    },
    {
      "cell_type": "markdown",
      "metadata": {
        "id": "xVNfE14oyLI9",
        "colab_type": "text"
      },
      "source": [
        "## Предобработка данных"
      ]
    },
    {
      "cell_type": "markdown",
      "metadata": {
        "id": "goK8Ht-XSzGN",
        "colab_type": "text"
      },
      "source": [
        "### Выделение тэгов"
      ]
    },
    {
      "cell_type": "markdown",
      "metadata": {
        "id": "ggb1HJ1qD2Wh",
        "colab_type": "text"
      },
      "source": [
        "Определим все возможные тэги вопросов"
      ]
    },
    {
      "cell_type": "code",
      "metadata": {
        "id": "oFyFYOK087lH",
        "colab_type": "code",
        "colab": {}
      },
      "source": [
        "tags_vectorizer = CountVectorizer(tokenizer= lambda x: x.split(), binary=True)"
      ],
      "execution_count": 0,
      "outputs": []
    },
    {
      "cell_type": "code",
      "metadata": {
        "id": "OBov-1t-8-oW",
        "colab_type": "code",
        "colab": {}
      },
      "source": [
        "tags_vect = tags_vectorizer.fit_transform(Y_train.Expected)"
      ],
      "execution_count": 0,
      "outputs": []
    },
    {
      "cell_type": "code",
      "metadata": {
        "id": "5cAfqxeq83JH",
        "colab_type": "code",
        "colab": {}
      },
      "source": [
        "tags = tags_vectorizer.get_feature_names()"
      ],
      "execution_count": 0,
      "outputs": []
    },
    {
      "cell_type": "code",
      "metadata": {
        "id": "8ky9lUDP9U_6",
        "colab_type": "code",
        "colab": {}
      },
      "source": [
        "tags_counts = pd.Series(tags_vect.sum(axis=0).A1, index=tags)"
      ],
      "execution_count": 0,
      "outputs": []
    },
    {
      "cell_type": "code",
      "metadata": {
        "id": "-k9tQOBX-i9a",
        "colab_type": "code",
        "colab": {}
      },
      "source": [
        "tags_counts.sort_values(ascending=False, inplace=True)"
      ],
      "execution_count": 0,
      "outputs": []
    },
    {
      "cell_type": "markdown",
      "metadata": {
        "id": "F-jb9xRNLABg",
        "colab_type": "text"
      },
      "source": [
        "Посмотрим на частоты тэгов"
      ]
    },
    {
      "cell_type": "code",
      "metadata": {
        "id": "m2lrybTJE1kF",
        "colab_type": "code",
        "outputId": "ce2611f1-26f4-49b1-d407-c693853b37a9",
        "colab": {
          "base_uri": "https://localhost:8080/",
          "height": 517
        }
      },
      "source": [
        "print(f'Number of tags = {len(tags)}')\n",
        "tags_counts[:10].plot(kind='barh', figsize=(12, 8))\n",
        "plt.title('Top 10 tags distribuion over train data')\n",
        "plt.show()"
      ],
      "execution_count": 13,
      "outputs": [
        {
          "output_type": "stream",
          "text": [
            "Number of tags = 68\n"
          ],
          "name": "stdout"
        },
        {
          "output_type": "display_data",
          "data": {
            "image/png": "[encoded data removed]",
            "text/plain": [
              "<Figure size 864x576 with 1 Axes>"
            ]
          },
          "metadata": {
            "tags": [],
            "needs_background": "light"
          }
        }
      ]
    },
    {
      "cell_type": "code",
      "metadata": {
        "colab_type": "code",
        "id": "TN5FktNuAfp2",
        "outputId": "d1836790-229c-40c7-a7d2-931691e754e8",
        "colab": {
          "base_uri": "https://localhost:8080/",
          "height": 452
        }
      },
      "source": [
        "word_cloud = WordCloud(width=1600,height=800,).generate_from_frequencies(tags_counts)\n",
        "plt.figure(figsize = (12,8))\n",
        "plt.imshow(word_cloud)\n",
        "plt.axis('off')\n",
        "plt.tight_layout(pad=0)"
      ],
      "execution_count": 14,
      "outputs": [
        {
          "output_type": "display_data",
          "data": {
            "image/png": "[encoded data removed]",
            "text/plain": [
              "<Figure size 864x576 with 1 Axes>"
            ]
          },
          "metadata": {
            "tags": [],
            "needs_background": "light"
          }
        }
      ]
    },
    {
      "cell_type": "markdown",
      "metadata": {
        "id": "LYD6-RgO6El-",
        "colab_type": "text"
      },
      "source": [
        "Посмотрим на распределние числа тэгов в вопросах"
      ]
    },
    {
      "cell_type": "code",
      "metadata": {
        "id": "qsI6X3QG7Rza",
        "colab_type": "code",
        "outputId": "cdde6e0c-f1ba-4b89-f308-9c287e4f9a32",
        "colab": {
          "base_uri": "https://localhost:8080/",
          "height": 295
        }
      },
      "source": [
        "sns.countplot(tags_vect.sum(axis=1).A1)\n",
        "plt.title(\"Number of tags in questions \")\n",
        "plt.xlabel(\"Number of tags\")\n",
        "plt.ylabel(\"Frequency\")\n",
        "plt.show()"
      ],
      "execution_count": 15,
      "outputs": [
        {
          "output_type": "display_data",
          "data": {
            "image/png": "[encoded data removed]",
            "text/plain": [
              "<Figure size 432x288 with 1 Axes>"
            ]
          },
          "metadata": {
            "tags": [],
            "needs_background": "light"
          }
        }
      ]
    },
    {
      "cell_type": "markdown",
      "metadata": {
        "id": "PXCCSd9vLEoq",
        "colab_type": "text"
      },
      "source": [
        "Закодируем тэги"
      ]
    },
    {
      "cell_type": "code",
      "metadata": {
        "id": "C4Hrg90dJasw",
        "colab_type": "code",
        "colab": {}
      },
      "source": [
        "tags_encoder = LabelEncoder().fit(tags)"
      ],
      "execution_count": 0,
      "outputs": []
    },
    {
      "cell_type": "markdown",
      "metadata": {
        "id": "qceJhzs46E2R",
        "colab_type": "text"
      },
      "source": [
        "### Выделение текста и кода из тела вопроса"
      ]
    },
    {
      "cell_type": "code",
      "metadata": {
        "id": "EK7gYe-CLutL",
        "colab_type": "code",
        "colab": {}
      },
      "source": [
        "def extract_from_body(body, tag):\n",
        "    soup = BeautifulSoup(body, 'lxml')\n",
        "    return ' '.join(t.text for t in soup.find_all(tag))"
      ],
      "execution_count": 0,
      "outputs": []
    },
    {
      "cell_type": "markdown",
      "metadata": {
        "id": "AF_wSw6pQb-1",
        "colab_type": "text"
      },
      "source": [
        "### Очистка и нормализация вопроса"
      ]
    },
    {
      "cell_type": "markdown",
      "metadata": {
        "id": "YN96WU8592hK",
        "colab_type": "text"
      },
      "source": [
        "Подготовим регулярные выражаения и возможные нормализаторы"
      ]
    },
    {
      "cell_type": "markdown",
      "metadata": {
        "id": "1Iq3v5_QTA-F",
        "colab_type": "text"
      },
      "source": [
        "Регулярки"
      ]
    },
    {
      "cell_type": "code",
      "metadata": {
        "id": "xgZnuGA2TKHD",
        "colab_type": "code",
        "colab": {}
      },
      "source": [
        "cpp = re.compile(r'c\\s*\\+\\+|c-*plus-*plus')\n",
        "csharp = re.compile(r'c\\s*#')\n",
        "python3 = re.compile(r'py(?:thon)?\\s*-*3(?:\\.\\d+)*')\n",
        "aspnet = re.compile(r'asp\\.net|aspnet|asp-net|asp\\s*net')"
      ],
      "execution_count": 0,
      "outputs": []
    },
    {
      "cell_type": "code",
      "metadata": {
        "id": "9hJUo0ufT7WJ",
        "colab_type": "code",
        "colab": {}
      },
      "source": [
        "program_lang_regexs = [('cpp', cpp), ('csharp', csharp),\\\n",
        "                       ('pythonthree', python3), ('aspnet', aspnet)]"
      ],
      "execution_count": 0,
      "outputs": []
    },
    {
      "cell_type": "code",
      "metadata": {
        "id": "BfKbgjUXWnn-",
        "colab_type": "code",
        "colab": {}
      },
      "source": [
        "replace_by_space_re = re.compile(r'[^a-z ]+')"
      ],
      "execution_count": 0,
      "outputs": []
    },
    {
      "cell_type": "markdown",
      "metadata": {
        "id": "pg3-pr_mFvpS",
        "colab_type": "text"
      },
      "source": [
        "Стоп-слова"
      ]
    },
    {
      "cell_type": "code",
      "metadata": {
        "id": "reBTTmMma1Uv",
        "colab_type": "code",
        "colab": {}
      },
      "source": [
        "stop_words = set(stopwords.words('english'))"
      ],
      "execution_count": 0,
      "outputs": []
    },
    {
      "cell_type": "markdown",
      "metadata": {
        "id": "8jCp29D1TW5X",
        "colab_type": "text"
      },
      "source": [
        "Условия на токены"
      ]
    },
    {
      "cell_type": "code",
      "metadata": {
        "id": "UJOovdsaTY_2",
        "colab_type": "code",
        "colab": {}
      },
      "source": [
        "def token_text_condition(token, stop_words):\n",
        "    return token not in stop_words and len(token) >= 2\\\n",
        "           or token == 'c' or token =='r' # because 'c' and 'r' are names of programming languages"
      ],
      "execution_count": 0,
      "outputs": []
    },
    {
      "cell_type": "code",
      "metadata": {
        "id": "DTzr4bEFTab_",
        "colab_type": "code",
        "colab": {}
      },
      "source": [
        "def token_code_condition(token, stop_words):\n",
        "    return token not in stop_words"
      ],
      "execution_count": 0,
      "outputs": []
    },
    {
      "cell_type": "markdown",
      "metadata": {
        "id": "7bl_u9wPEBh9",
        "colab_type": "text"
      },
      "source": [
        "NLTK стемминг"
      ]
    },
    {
      "cell_type": "code",
      "metadata": {
        "id": "iqZ8HYenEL3E",
        "colab_type": "code",
        "colab": {}
      },
      "source": [
        "def nltk_stem_text(stemmer, tokens, token_condition):\n",
        "    stem_tokens = (stemmer.stem(token) for token in tokens\\\n",
        "                   if token_condition(token, stop_words))\n",
        "    return ' '.join(stem_tokens)"
      ],
      "execution_count": 0,
      "outputs": []
    },
    {
      "cell_type": "code",
      "metadata": {
        "id": "spav7eszathh",
        "colab_type": "code",
        "colab": {}
      },
      "source": [
        "stemmer = SnowballStemmer('english')"
      ],
      "execution_count": 0,
      "outputs": []
    },
    {
      "cell_type": "markdown",
      "metadata": {
        "id": "LVMR0gZ4HL-7",
        "colab_type": "text"
      },
      "source": [
        "NLTK лемминг"
      ]
    },
    {
      "cell_type": "code",
      "metadata": {
        "id": "blkW1NHPHP61",
        "colab_type": "code",
        "colab": {}
      },
      "source": [
        "def is_noun(tag):\n",
        "    return tag in ['NN', 'NNS', 'NNP', 'NNPS']\n",
        "\n",
        "\n",
        "def is_verb(tag):\n",
        "    return tag in ['VB', 'VBD', 'VBG', 'VBN', 'VBP', 'VBZ']\n",
        "\n",
        "\n",
        "def is_adverb(tag):\n",
        "    return tag in ['RB', 'RBR', 'RBS']\n",
        "\n",
        "\n",
        "def is_adjective(tag):\n",
        "    return tag in ['JJ', 'JJR', 'JJS']\n",
        "\n",
        "\n",
        "def penn_to_wordnet(tag):\n",
        "    if is_adjective(tag):\n",
        "        return wordnet.ADJ\n",
        "    elif is_noun(tag):\n",
        "        return wordnet.NOUN\n",
        "    elif is_adverb(tag):\n",
        "        return wordnet.ADV\n",
        "    elif is_verb(tag):\n",
        "        return wordnet.VERB\n",
        "    return wordnet.NOUN"
      ],
      "execution_count": 0,
      "outputs": []
    },
    {
      "cell_type": "code",
      "metadata": {
        "id": "cUkA8ZS4IBlz",
        "colab_type": "code",
        "colab": {}
      },
      "source": [
        "def nltk_lemmatize_text(lemmer, clean_text, token_condition):\n",
        "    lemmas = (lemmer.lemmatize(token, penn_to_wordnet(pos)) for token, pos \\\n",
        "              in pos_tag(word_tokenize(clean_text) , lang='eng')\\\n",
        "              if token_condition(token, stop_words))\n",
        "    return ' '.join(lemmas)"
      ],
      "execution_count": 0,
      "outputs": []
    },
    {
      "cell_type": "code",
      "metadata": {
        "id": "IveDTUKeIHcJ",
        "colab_type": "code",
        "colab": {}
      },
      "source": [
        "lemmer = WordNetLemmatizer()"
      ],
      "execution_count": 0,
      "outputs": []
    },
    {
      "cell_type": "markdown",
      "metadata": {
        "id": "e8nHHuVPEDxm",
        "colab_type": "text"
      },
      "source": [
        "spaCy лемминг"
      ]
    },
    {
      "cell_type": "code",
      "metadata": {
        "id": "egJo5ux0G3Vu",
        "colab_type": "code",
        "colab": {}
      },
      "source": [
        "def scapy_lemmatize_text(nlp, clean_text, token_condition):\n",
        "    return ' '.join(token.lemma_ for token in nlp(clean_text)\\\n",
        "                    if token_condition(token.lemma_, stop_words)\\\n",
        "                    and token.lemma_ != '-PRON-')"
      ],
      "execution_count": 0,
      "outputs": []
    },
    {
      "cell_type": "code",
      "metadata": {
        "id": "57CODKGx9n3w",
        "colab_type": "code",
        "colab": {}
      },
      "source": [
        "nlp = spacy.load('en')"
      ],
      "execution_count": 0,
      "outputs": []
    },
    {
      "cell_type": "markdown",
      "metadata": {
        "id": "2tlLdb8iL90N",
        "colab_type": "text"
      },
      "source": [
        "Протестируем"
      ]
    },
    {
      "cell_type": "code",
      "metadata": {
        "id": "ZeO4Um3nGCBt",
        "colab_type": "code",
        "outputId": "92ce3c11-f19f-4c02-ec0f-2754c507bd82",
        "colab": {
          "base_uri": "https://localhost:8080/",
          "height": 87
        }
      },
      "source": [
        "sentence = X_train['title'][15].lower()\n",
        "print(f'Origin sentence : {sentence}')\n",
        "print(f'NLTK lemma : {nltk_lemmatize_text(lemmer, sentence, token_text_condition)}')\n",
        "print(f'spaCy lemma : {scapy_lemmatize_text(nlp, sentence, token_text_condition)}')\n",
        "print(f'Stem : {nltk_stem_text(stemmer, sentence.split(), token_text_condition)}')"
      ],
      "execution_count": 31,
      "outputs": [
        {
          "output_type": "stream",
          "text": [
            "Origin sentence : how to set default class property value with a variable from another php file?\n",
            "NLTK lemma : set default class property value variable another php file\n",
            "spaCy lemma : set default class property value variable another php file\n",
            "Stem : set default class properti valu variabl anoth php file?\n"
          ],
          "name": "stdout"
        }
      ]
    },
    {
      "cell_type": "markdown",
      "metadata": {
        "id": "Fl9MG6t8R3Q4",
        "colab_type": "text"
      },
      "source": [
        "#### Текст"
      ]
    },
    {
      "cell_type": "code",
      "metadata": {
        "id": "ZAkyfdQ9SKfx",
        "colab_type": "code",
        "colab": {}
      },
      "source": [
        "def clean_text(text):\n",
        "    text = text.lower()\n",
        "    for lang_name, lang_re in program_lang_regexs:\n",
        "        text = lang_re.sub(lang_name, text)\n",
        "    text = replace_by_space_re.sub(' ', text)\n",
        "    return text"
      ],
      "execution_count": 0,
      "outputs": []
    },
    {
      "cell_type": "code",
      "metadata": {
        "id": "fGmGPYEVXd-P",
        "colab_type": "code",
        "colab": {}
      },
      "source": [
        "def clean_and_normalize_text(text, method='nltk_lemma'):\n",
        "    text = clean_text(text)\n",
        "    if method == 'nltk_lemma':\n",
        "        return nltk_lemmatize_text(lemmer, text, token_text_condition)\n",
        "    if method == 'nltk_stem':\n",
        "        return nltk_stem_text(stemmer, text.split(), token_text_condition)\n",
        "    if method == 'spacy_lemma':\n",
        "        return scapy_lemmatize_text(nlp, text, token_text_condition)"
      ],
      "execution_count": 0,
      "outputs": []
    },
    {
      "cell_type": "markdown",
      "metadata": {
        "id": "9gOw3Sl0WPc6",
        "colab_type": "text"
      },
      "source": [
        "#### Код"
      ]
    },
    {
      "cell_type": "markdown",
      "metadata": {
        "id": "Y6thkoBIKquv",
        "colab_type": "text"
      },
      "source": [
        "Токенайзер для кода"
      ]
    },
    {
      "cell_type": "code",
      "metadata": {
        "id": "R8nKh4vpe_dQ",
        "colab_type": "code",
        "colab": {}
      },
      "source": [
        "code_tokenizer = \\\n",
        "nltk.tokenize.RegexpTokenizer(r'(?![\\d\\:\\|\\s])(?:\\w{2,}|\\+\\+|\\*\\*|::|\\&\\&|\\/\\/|</|<\\!|<\\?|\\W)')"
      ],
      "execution_count": 0,
      "outputs": []
    },
    {
      "cell_type": "code",
      "metadata": {
        "id": "Y39_YaZDdwW_",
        "colab_type": "code",
        "colab": {}
      },
      "source": [
        "def clean_code(code):\n",
        "    code = code.lower()\n",
        "    for lang_name, lang_re in program_lang_regexs:\n",
        "        code = lang_re.sub(lang_name, code)\n",
        "    return code"
      ],
      "execution_count": 0,
      "outputs": []
    },
    {
      "cell_type": "code",
      "metadata": {
        "id": "fVJfduzgYlk_",
        "colab_type": "code",
        "colab": {}
      },
      "source": [
        "def clean_and_normalize_code(code):\n",
        "    code = clean_code(code)\n",
        "    return nltk_stem_text(stemmer, code_tokenizer.tokenize(code), token_code_condition)"
      ],
      "execution_count": 0,
      "outputs": []
    },
    {
      "cell_type": "markdown",
      "metadata": {
        "id": "fqt37fWIZn8I",
        "colab_type": "text"
      },
      "source": [
        "### Препроцессинг"
      ]
    },
    {
      "cell_type": "code",
      "metadata": {
        "id": "mh5T7qdmZwh5",
        "colab_type": "code",
        "colab": {}
      },
      "source": [
        "def preprocess(X, Y=None, normalize_method='nltk_lemma'):\n",
        "    if Y is not None:\n",
        "        Y['Expected'] = Y['Expected'].apply(lambda tags : tags_encoder.transform(tags.split()))\n",
        "    \n",
        "    X['body_text'] = X['body'].apply(lambda body: extract_from_body(body, 'p'))\n",
        "    X['body_code'] = X['body'].apply(lambda body: extract_from_body(body, 'code'))\n",
        "    X.drop(['body'], axis=1, inplace=True)\n",
        "    X['body_text'] = X['body_text'].apply(lambda text: clean_and_normalize_text(text, normalize_method))\n",
        "    X['body_code'] = X['body_code'].apply(clean_and_normalize_code)\n",
        "    X['title'] = X['title'].apply(lambda text: clean_and_normalize_text(text, normalize_method))\n",
        "    return X, Y"
      ],
      "execution_count": 0,
      "outputs": []
    },
    {
      "cell_type": "markdown",
      "metadata": {
        "id": "XXumHbP0byyf",
        "colab_type": "text"
      },
      "source": [
        "Протестируем"
      ]
    },
    {
      "cell_type": "code",
      "metadata": {
        "id": "qSzfR07bcdvb",
        "colab_type": "code",
        "colab": {}
      },
      "source": [
        "X = X_train.iloc[:5].copy()\n",
        "Y = Y_train.iloc[:5].copy()"
      ],
      "execution_count": 0,
      "outputs": []
    },
    {
      "cell_type": "code",
      "metadata": {
        "id": "O1NaYYBKb0HK",
        "colab_type": "code",
        "outputId": "097724ef-6720-4c93-8f2b-13a32cb78e23",
        "colab": {
          "base_uri": "https://localhost:8080/",
          "height": 473
        }
      },
      "source": [
        "for sample in preprocess(X, Y, normalize_method='nltk_stem'):\n",
        "    display(sample)"
      ],
      "execution_count": 39,
      "outputs": [
        {
          "output_type": "display_data",
          "data": {
            "text/html": [
              "<div>\n",
              "<style scoped>\n",
              "    .dataframe tbody tr th:only-of-type {\n",
              "        vertical-align: middle;\n",
              "    }\n",
              "\n",
              "    .dataframe tbody tr th {\n",
              "        vertical-align: top;\n",
              "    }\n",
              "\n",
              "    .dataframe thead th {\n",
              "        text-align: right;\n",
              "    }\n",
              "</style>\n",
              "<table border=\"1\" class=\"dataframe\">\n",
              "  <thead>\n",
              "    <tr style=\"text-align: right;\">\n",
              "      <th></th>\n",
              "      <th>id</th>\n",
              "      <th>title</th>\n",
              "      <th>body_text</th>\n",
              "      <th>body_code</th>\n",
              "    </tr>\n",
              "  </thead>\n",
              "  <tbody>\n",
              "    <tr>\n",
              "      <th>0</th>\n",
              "      <td>56685310</td>\n",
              "      <td>onnext method fire observ</td>\n",
              "      <td>method return observ call anoth method process...</td>\n",
              "      <td>data basedata [ ] = [ ] ; initdata ( ) { . dat...</td>\n",
              "    </tr>\n",
              "    <tr>\n",
              "      <th>1</th>\n",
              "      <td>55893408</td>\n",
              "      <td>textview posit imagevvew coordinatorlayout</td>\n",
              "      <td>develop android news app list implement imag t...</td>\n",
              "      <td>textview textview imageview coordinatorlayout ...</td>\n",
              "    </tr>\n",
              "    <tr>\n",
              "      <th>2</th>\n",
              "      <td>55807871</td>\n",
              "      <td>deploy firebas function</td>\n",
              "      <td>tri deploy function firebas say parss error un...</td>\n",
              "      <td></td>\n",
              "    </tr>\n",
              "    <tr>\n",
              "      <th>3</th>\n",
              "      <td>54842410</td>\n",
              "      <td>share cpp mutex share memori</td>\n",
              "      <td>want avoid data race share memori buffer mani ...</td>\n",
              "      <td>std mutex memcpi</td>\n",
              "    </tr>\n",
              "    <tr>\n",
              "      <th>4</th>\n",
              "      <td>55572776</td>\n",
              "      <td>clean data iter list find item contain string ...</td>\n",
              "      <td>tri iter list data clean small part list want ...</td>\n",
              "      <td>line = [ ' wirkstofflist – ' , ' ' , ' ' , ' g...</td>\n",
              "    </tr>\n",
              "  </tbody>\n",
              "</table>\n",
              "</div>"
            ],
            "text/plain": [
              "         id  ...                                          body_code\n",
              "0  56685310  ...  data basedata [ ] = [ ] ; initdata ( ) { . dat...\n",
              "1  55893408  ...  textview textview imageview coordinatorlayout ...\n",
              "2  55807871  ...                                                   \n",
              "3  54842410  ...                                   std mutex memcpi\n",
              "4  55572776  ...  line = [ ' wirkstofflist – ' , ' ' , ' ' , ' g...\n",
              "\n",
              "[5 rows x 4 columns]"
            ]
          },
          "metadata": {
            "tags": []
          }
        },
        {
          "output_type": "display_data",
          "data": {
            "text/html": [
              "<div>\n",
              "<style scoped>\n",
              "    .dataframe tbody tr th:only-of-type {\n",
              "        vertical-align: middle;\n",
              "    }\n",
              "\n",
              "    .dataframe tbody tr th {\n",
              "        vertical-align: top;\n",
              "    }\n",
              "\n",
              "    .dataframe thead th {\n",
              "        text-align: right;\n",
              "    }\n",
              "</style>\n",
              "<table border=\"1\" class=\"dataframe\">\n",
              "  <thead>\n",
              "    <tr style=\"text-align: right;\">\n",
              "      <th></th>\n",
              "      <th>Id</th>\n",
              "      <th>Expected</th>\n",
              "    </tr>\n",
              "  </thead>\n",
              "  <tbody>\n",
              "    <tr>\n",
              "      <th>0</th>\n",
              "      <td>56685310</td>\n",
              "      <td>[3]</td>\n",
              "    </tr>\n",
              "    <tr>\n",
              "      <th>1</th>\n",
              "      <td>55893408</td>\n",
              "      <td>[2, 28]</td>\n",
              "    </tr>\n",
              "    <tr>\n",
              "      <th>2</th>\n",
              "      <td>55807871</td>\n",
              "      <td>[23]</td>\n",
              "    </tr>\n",
              "    <tr>\n",
              "      <th>3</th>\n",
              "      <td>54842410</td>\n",
              "      <td>[14]</td>\n",
              "    </tr>\n",
              "    <tr>\n",
              "      <th>4</th>\n",
              "      <td>55572776</td>\n",
              "      <td>[36, 46]</td>\n",
              "    </tr>\n",
              "  </tbody>\n",
              "</table>\n",
              "</div>"
            ],
            "text/plain": [
              "         Id  Expected\n",
              "0  56685310       [3]\n",
              "1  55893408   [2, 28]\n",
              "2  55807871      [23]\n",
              "3  54842410      [14]\n",
              "4  55572776  [36, 46]"
            ]
          },
          "metadata": {
            "tags": []
          }
        }
      ]
    },
    {
      "cell_type": "markdown",
      "metadata": {
        "id": "xhe4rdm8b_B7",
        "colab_type": "text"
      },
      "source": [
        "Применим преобразования к данным"
      ]
    },
    {
      "cell_type": "code",
      "metadata": {
        "id": "mZeQTH6C7Y5f",
        "colab_type": "code",
        "colab": {}
      },
      "source": [
        "X_train, Y_train = preprocess(X_train, Y_train, normalize_method='nltk_stem')"
      ],
      "execution_count": 0,
      "outputs": []
    },
    {
      "cell_type": "markdown",
      "metadata": {
        "id": "8floBcNVUceM",
        "colab_type": "text"
      },
      "source": [
        "Выделим обучающую и тестовую выборки"
      ]
    },
    {
      "cell_type": "code",
      "metadata": {
        "id": "G8UDQzvgFN8D",
        "colab_type": "code",
        "colab": {}
      },
      "source": [
        "Xtrain, Xtest, Ytrain, Ytest =\\\n",
        " train_test_split(X_train.drop(['id'], axis=1), Y_train.Expected,\\\n",
        "                  test_size=0.1, random_state=123)"
      ],
      "execution_count": 0,
      "outputs": []
    },
    {
      "cell_type": "markdown",
      "metadata": {
        "id": "EiwB-_KwVuj_",
        "colab_type": "text"
      },
      "source": [
        "## Векторизация текста"
      ]
    },
    {
      "cell_type": "markdown",
      "metadata": {
        "id": "mJhplr00b7gX",
        "colab_type": "text"
      },
      "source": [
        "Посчитаем $\\text{TfIdf}$ для каждого текстового признака"
      ]
    },
    {
      "cell_type": "code",
      "metadata": {
        "id": "cR_o676_YhG1",
        "colab_type": "code",
        "colab": {}
      },
      "source": [
        "tfidf_title = TfidfVectorizer(lowercase=False, decode_error='ignore', \\\n",
        "                              ngram_range=(1, 2), max_df=0.3, min_df=10,\\\n",
        "                              token_pattern=r'\\S+')"
      ],
      "execution_count": 0,
      "outputs": []
    },
    {
      "cell_type": "code",
      "metadata": {
        "id": "Q9ia2amtY1tK",
        "colab_type": "code",
        "colab": {}
      },
      "source": [
        "tfidf_body_text = TfidfVectorizer(lowercase=False, decode_error='ignore', \\\n",
        "                                  ngram_range=(1, 2), max_df=0.3, min_df=55,\\\n",
        "                                  token_pattern=r'\\S+')"
      ],
      "execution_count": 0,
      "outputs": []
    },
    {
      "cell_type": "code",
      "metadata": {
        "id": "RySccE6YY8YL",
        "colab_type": "code",
        "colab": {}
      },
      "source": [
        "tfidf_body_code = TfidfVectorizer(lowercase=False, decode_error='ignore', \\\n",
        "                                  min_df=20, token_pattern=r'\\S+')"
      ],
      "execution_count": 0,
      "outputs": []
    },
    {
      "cell_type": "code",
      "metadata": {
        "id": "Q8DyuLSpZ8Hf",
        "colab_type": "code",
        "colab": {}
      },
      "source": [
        "transformer = ColumnTransformer(\n",
        "    [\n",
        "     ('title', tfidf_title, 'title'),\n",
        "     ('body_text', tfidf_body_text, 'body_text'),\n",
        "     ('body_code', tfidf_body_code, 'body_code'),\n",
        "    ]\n",
        ")"
      ],
      "execution_count": 0,
      "outputs": []
    },
    {
      "cell_type": "markdown",
      "metadata": {
        "id": "_U9ySqvLb5rv",
        "colab_type": "text"
      },
      "source": [
        "Применим преобразование"
      ]
    },
    {
      "cell_type": "code",
      "metadata": {
        "id": "aKU0G-XjcEHD",
        "colab_type": "code",
        "outputId": "5942d0d6-1c4a-4bca-d55b-d781e6b8318a",
        "colab": {
          "base_uri": "https://localhost:8080/",
          "height": 555
        }
      },
      "source": [
        "transformer.fit(Xtrain)"
      ],
      "execution_count": 46,
      "outputs": [
        {
          "output_type": "execute_result",
          "data": {
            "text/plain": [
              "ColumnTransformer(n_jobs=None, remainder='drop', sparse_threshold=0.3,\n",
              "                  transformer_weights=None,\n",
              "                  transformers=[('title',\n",
              "                                 TfidfVectorizer(analyzer='word', binary=False,\n",
              "                                                 decode_error='ignore',\n",
              "                                                 dtype=<class 'numpy.float64'>,\n",
              "                                                 encoding='utf-8',\n",
              "                                                 input='content',\n",
              "                                                 lowercase=False, max_df=0.3,\n",
              "                                                 max_features=None, min_df=10,\n",
              "                                                 ngram_range=(1, 2), norm='l2',\n",
              "                                                 preprocessor=None,\n",
              "                                                 smoo...\n",
              "                                 TfidfVectorizer(analyzer='word', binary=False,\n",
              "                                                 decode_error='ignore',\n",
              "                                                 dtype=<class 'numpy.float64'>,\n",
              "                                                 encoding='utf-8',\n",
              "                                                 input='content',\n",
              "                                                 lowercase=False, max_df=1.0,\n",
              "                                                 max_features=None, min_df=20,\n",
              "                                                 ngram_range=(1, 1), norm='l2',\n",
              "                                                 preprocessor=None,\n",
              "                                                 smooth_idf=True,\n",
              "                                                 stop_words=None,\n",
              "                                                 strip_accents=None,\n",
              "                                                 sublinear_tf=False,\n",
              "                                                 token_pattern='\\\\S+',\n",
              "                                                 tokenizer=None, use_idf=True,\n",
              "                                                 vocabulary=None),\n",
              "                                 'body_code')],\n",
              "                  verbose=False)"
            ]
          },
          "metadata": {
            "tags": []
          },
          "execution_count": 46
        }
      ]
    },
    {
      "cell_type": "code",
      "metadata": {
        "id": "81YbP4EwcH50",
        "colab_type": "code",
        "colab": {}
      },
      "source": [
        "Xtrain_vect = transformer.transform(Xtrain)"
      ],
      "execution_count": 0,
      "outputs": []
    },
    {
      "cell_type": "code",
      "metadata": {
        "id": "-vkO9YsS1fy9",
        "colab_type": "code",
        "colab": {}
      },
      "source": [
        "Xtest_vect = transformer.transform(Xtest)"
      ],
      "execution_count": 0,
      "outputs": []
    },
    {
      "cell_type": "markdown",
      "metadata": {
        "id": "KURH8fNhF6vc",
        "colab_type": "text"
      },
      "source": [
        "Посмотрим на топ 10 слов  в каждом столбце"
      ]
    },
    {
      "cell_type": "code",
      "metadata": {
        "id": "FITbK1JYFaIT",
        "colab_type": "code",
        "colab": {}
      },
      "source": [
        "def top_n_tokens(vocabulary, vector, n):\n",
        "    topn, _ = zip(*sorted(zip(vocabulary, np.array(vector.sum(axis=0)).ravel()), \\\n",
        "                         key=lambda x: x[1], reverse=True)[:n])\n",
        "    return topn"
      ],
      "execution_count": 0,
      "outputs": []
    },
    {
      "cell_type": "code",
      "metadata": {
        "id": "QjF2mZLmD1px",
        "colab_type": "code",
        "outputId": "975cacc0-3fe1-47c4-ee1f-c7605ab9858d",
        "colab": {
          "base_uri": "https://localhost:8080/",
          "height": 245
        }
      },
      "source": [
        "last_i = 0\n",
        "\n",
        "for name, tr, _ in transformer.transformers_:\n",
        "    voc = tr.get_feature_names()\n",
        "    vect = Xtrain_vect[last_i: len(voc)]\n",
        "    last_i = len(voc)\n",
        "    print(f'Vocabulary size for {name} = {len(voc)}')\n",
        "    print(f'Top 10 {name} tokens: {\", \".join(top_n_tokens(voc, vect, 10))}')\n",
        "    print('\\n')"
      ],
      "execution_count": 50,
      "outputs": [
        {
          "output_type": "stream",
          "text": [
            "Vocabulary size for title = 8364\n",
            "Top 10 title tokens: use, valu, file, get, function, python, error, data, work, object\n",
            "\n",
            "\n",
            "Vocabulary size for body_text = 9052\n",
            "Top 10 body_text tokens: told, featur, current look, two field, free, follow howev, includ, error log, work current, code search\n",
            "\n",
            "\n",
            "Vocabulary size for body_code = 9649\n",
            "Top 10 body_code tokens: setfrom, field2, win, •, wait, vel, slope, transfer, firebasestorag, newbuild\n",
            "\n",
            "\n"
          ],
          "name": "stdout"
        }
      ]
    },
    {
      "cell_type": "markdown",
      "metadata": {
        "id": "oDTXqHP7Kk8t",
        "colab_type": "text"
      },
      "source": [
        "## Обучение моделей"
      ]
    },
    {
      "cell_type": "markdown",
      "metadata": {
        "id": "mUab2HJ6SBzS",
        "colab_type": "text"
      },
      "source": [
        "Преобразуем тэги в бинарные векторы"
      ]
    },
    {
      "cell_type": "code",
      "metadata": {
        "id": "dXxYiNwqRxLF",
        "colab_type": "code",
        "colab": {}
      },
      "source": [
        "mlb = MultiLabelBinarizer()"
      ],
      "execution_count": 0,
      "outputs": []
    },
    {
      "cell_type": "code",
      "metadata": {
        "id": "S32JXocuRzxg",
        "colab_type": "code",
        "outputId": "b1bfebab-b119-4653-e1e4-c083d4fc6da7",
        "colab": {
          "base_uri": "https://localhost:8080/",
          "height": 35
        }
      },
      "source": [
        "mlb.fit(Ytrain)"
      ],
      "execution_count": 52,
      "outputs": [
        {
          "output_type": "execute_result",
          "data": {
            "text/plain": [
              "MultiLabelBinarizer(classes=None, sparse_output=False)"
            ]
          },
          "metadata": {
            "tags": []
          },
          "execution_count": 52
        }
      ]
    },
    {
      "cell_type": "code",
      "metadata": {
        "id": "n2FmYvP2R2Ew",
        "colab_type": "code",
        "colab": {}
      },
      "source": [
        "Ytrain_bin = mlb.transform(Ytrain)"
      ],
      "execution_count": 0,
      "outputs": []
    },
    {
      "cell_type": "code",
      "metadata": {
        "id": "rdODAIKOR97V",
        "colab_type": "code",
        "colab": {}
      },
      "source": [
        "Ytest_bin = mlb.transform(Ytest)"
      ],
      "execution_count": 0,
      "outputs": []
    },
    {
      "cell_type": "markdown",
      "metadata": {
        "id": "mh3UW_RWXKuB",
        "colab_type": "text"
      },
      "source": [
        "\n",
        "### Binary Relevance Method"
      ]
    },
    {
      "cell_type": "markdown",
      "metadata": {
        "id": "dWMysw5NUGKe",
        "colab_type": "text"
      },
      "source": [
        "Определим $\\text{SVM}$ классификатор с $\\text{OVR}$ подходом для решения мульти-лэйбел задачи"
      ]
    },
    {
      "cell_type": "code",
      "metadata": {
        "id": "oUTUxNmnMZ29",
        "colab_type": "code",
        "colab": {}
      },
      "source": [
        "clf = LinearSVC(loss='hinge', class_weight='balanced', random_state=123)"
      ],
      "execution_count": 0,
      "outputs": []
    },
    {
      "cell_type": "code",
      "metadata": {
        "id": "CXUFeE5lTrK5",
        "colab_type": "code",
        "colab": {}
      },
      "source": [
        "ovr_clf = OneVsRestClassifier(clf, n_jobs=-1)"
      ],
      "execution_count": 0,
      "outputs": []
    },
    {
      "cell_type": "markdown",
      "metadata": {
        "id": "aMkpfidabR9-",
        "colab_type": "text"
      },
      "source": [
        "Подберем гиперпараметры"
      ]
    },
    {
      "cell_type": "code",
      "metadata": {
        "id": "RC-J8oTSdADw",
        "colab_type": "code",
        "colab": {}
      },
      "source": [
        "def plot_search_cv_scores(clf, clf_name):\n",
        "    _, ax = plt.subplots(figsize=(12, 8))\n",
        "    data = pd.DataFrame(clf.cv_results_)\n",
        "    scores = data['mean_test_score']\n",
        "    std_scores = data['std_test_score']\n",
        "    best_index = clf.best_index_\n",
        "    x = range(data.shape[0])\n",
        "    ax.set_xticks(x)\n",
        "    ax.set_xlabel('Params index')\n",
        "    ax.set_ylabel('F1 score')\n",
        "    ax.set_title('{} Search CV F1 score'.format(clf_name))\n",
        "    ax.plot(x, scores)\n",
        "    ax.fill_between(x, scores - std_scores, scores + std_scores, alpha=0.2)\n",
        "    ax.scatter(best_index, scores[best_index], label='Score for best clf')\n",
        "    ax.grid()\n",
        "    ax.legend()\n",
        "    plt.show()"
      ],
      "execution_count": 0,
      "outputs": []
    },
    {
      "cell_type": "code",
      "metadata": {
        "id": "lyTROcuKan7b",
        "colab_type": "code",
        "colab": {}
      },
      "source": [
        "C_grid = np.logspace(-5, 5, base=10, num=11)\n",
        "max_iter_grid = np.logspace(3, 8, base=10, num=6)"
      ],
      "execution_count": 0,
      "outputs": []
    },
    {
      "cell_type": "code",
      "metadata": {
        "id": "RgCqdxcfYXbk",
        "colab_type": "code",
        "colab": {}
      },
      "source": [
        "param_distrib = {'estimator__C': C_grid, 'estimator__max_iter': max_iter_grid}"
      ],
      "execution_count": 0,
      "outputs": []
    },
    {
      "cell_type": "code",
      "metadata": {
        "id": "3vWRK0O7YEC3",
        "colab_type": "code",
        "colab": {}
      },
      "source": [
        "random_searcher = \\\n",
        "RandomizedSearchCV(ovr_clf, param_distrib, n_iter=5, n_jobs=5,\\\n",
        "                   scoring=make_scorer(f1_score, average='samples'), random_state=123, cv=5)"
      ],
      "execution_count": 0,
      "outputs": []
    },
    {
      "cell_type": "code",
      "metadata": {
        "id": "ZNIoUPQgbLAy",
        "colab_type": "code",
        "outputId": "4b43b112-6c5a-4ccd-8162-74584d5619c1",
        "colab": {
          "base_uri": "https://localhost:8080/",
          "height": 436
        }
      },
      "source": [
        "random_searcher.fit(Xtrain_vect, Ytrain_bin)"
      ],
      "execution_count": 61,
      "outputs": [
        {
          "output_type": "stream",
          "text": [
            "/usr/local/lib/python3.6/dist-packages/joblib/externals/loky/process_executor.py:706: UserWarning: A worker stopped while some jobs were given to the executor. This can be caused by a too short worker timeout or by a memory leak.\n",
            "  \"timeout or by a memory leak.\", UserWarning\n"
          ],
          "name": "stderr"
        },
        {
          "output_type": "execute_result",
          "data": {
            "text/plain": [
              "RandomizedSearchCV(cv=5, error_score=nan,\n",
              "                   estimator=OneVsRestClassifier(estimator=LinearSVC(C=1.0,\n",
              "                                                                     class_weight='balanced',\n",
              "                                                                     dual=True,\n",
              "                                                                     fit_intercept=True,\n",
              "                                                                     intercept_scaling=1,\n",
              "                                                                     loss='hinge',\n",
              "                                                                     max_iter=1000,\n",
              "                                                                     multi_class='ovr',\n",
              "                                                                     penalty='l2',\n",
              "                                                                     random_state=123,\n",
              "                                                                     tol=0.0001,\n",
              "                                                                     verbose=0),\n",
              "                                                 n_jobs=-1),\n",
              "                   iid='deprecated', n_iter=5, n_jobs=5,\n",
              "                   param_distributions={'estimator__C': array([1.e-05, 1.e-04, 1.e-03, 1.e-02, 1.e-01, 1.e+00, 1.e+01, 1.e+02,\n",
              "       1.e+03, 1.e+04, 1.e+05]),\n",
              "                                        'estimator__max_iter': array([1.e+03, 1.e+04, 1.e+05, 1.e+06, 1.e+07, 1.e+08])},\n",
              "                   pre_dispatch='2*n_jobs', random_state=123, refit=True,\n",
              "                   return_train_score=False,\n",
              "                   scoring=make_scorer(f1_score, average=samples), verbose=0)"
            ]
          },
          "metadata": {
            "tags": []
          },
          "execution_count": 61
        }
      ]
    },
    {
      "cell_type": "code",
      "metadata": {
        "id": "6vszoTJdbliB",
        "colab_type": "code",
        "outputId": "79df4c59-beab-4c1b-f20a-1825e7a2b1b0",
        "colab": {
          "base_uri": "https://localhost:8080/",
          "height": 69
        }
      },
      "source": [
        "print(f'Best params: {random_searcher.best_params_}')\n",
        "print(f'Best score: {random_searcher.best_score_}')\n",
        "print(f'Test score: {f1_score(Ytest_bin, random_searcher.predict(Xtest_vect), average=\"samples\")}')"
      ],
      "execution_count": 62,
      "outputs": [
        {
          "output_type": "stream",
          "text": [
            "Best params: {'estimator__max_iter': 10000.0, 'estimator__C': 1.0}\n",
            "Best score: 0.6967973809523811\n",
            "Test score: 0.7058419047619047\n"
          ],
          "name": "stdout"
        }
      ]
    },
    {
      "cell_type": "code",
      "metadata": {
        "id": "xpp5LqsKdcpc",
        "colab_type": "code",
        "outputId": "7353bbd3-41bd-4248-a8a8-94390b5ed7b1",
        "colab": {
          "base_uri": "https://localhost:8080/",
          "height": 513
        }
      },
      "source": [
        "plot_search_cv_scores(random_searcher, 'Random')"
      ],
      "execution_count": 63,
      "outputs": [
        {
          "output_type": "display_data",
          "data": {
            "image/png": "[encoded data removed]",
            "text/plain": [
              "<Figure size 864x576 with 1 Axes>"
            ]
          },
          "metadata": {
            "tags": [],
            "needs_background": "light"
          }
        }
      ]
    },
    {
      "cell_type": "code",
      "metadata": {
        "id": "aVd30fDFby8P",
        "colab_type": "code",
        "colab": {}
      },
      "source": [
        "ovr_clf = random_searcher.best_estimator_"
      ],
      "execution_count": 0,
      "outputs": []
    },
    {
      "cell_type": "markdown",
      "metadata": {
        "id": "qDs-iOASr0jV",
        "colab_type": "text"
      },
      "source": [
        "Напишем классифкатор-обертку, калибрующий предсказания для $\\text{OVR}$ мульти-лэйбел подхода"
      ]
    },
    {
      "cell_type": "code",
      "metadata": {
        "id": "rx_CMGWq2vS3",
        "colab_type": "code",
        "colab": {}
      },
      "source": [
        "class MultiLabelOVRCalibratedClasiifier(BaseEstimator, ClassifierMixin):\n",
        "    def __init__(self, clf=OneVsRestClassifier(SGDClassifier()), cv=5, calib_method='isotonic'):\n",
        "        self.clf = clf\n",
        "        self.cv = cv\n",
        "        self.calib_method = calib_method\n",
        "\n",
        "    def fit(self, X, Y):\n",
        "        assert len(Y.shape) == 2 and np.all((Y == 0) | (Y == 1)), 'Y should be in MultilabelBinarize form'\n",
        "        \n",
        "        self.clf.fit(X, Y)\n",
        "        assert hasattr(self.clf, 'estimators_'), 'Base classifier should be OVR'\n",
        "\n",
        "        self.calib_clfs_ = []\n",
        "\n",
        "        for i, estimator in enumerate(self.clf.estimators_):\n",
        "            y = Y[:, i]\n",
        "            calib_clf_cv = CalibratedClassifierCV(self.clf, method=self.calib_method, cv=self.cv)\n",
        "            calib_clf_cv.fit(X, y)\n",
        "            self.calib_clfs_.append(calib_clf_cv)\n",
        "\n",
        "        return self\n",
        "    \n",
        "    def predict(self, X):\n",
        "        return self.clf.predict(X)\n",
        "\n",
        "    def predict_proba(self, X):\n",
        "        probs_cv = None\n",
        "\n",
        "        for calib_clf_cv in self.calib_clfs_:\n",
        "            probs_i_cv = calib_clf_cv.predict_proba(X)[:, 1].reshape(-1, 1)\n",
        "            if probs_cv is None:\n",
        "                probs_cv = probs_i_cv\n",
        "            else:\n",
        "                probs_cv = np.hstack((probs_cv, probs_i_cv))\n",
        "\n",
        "        return probs_cv"
      ],
      "execution_count": 0,
      "outputs": []
    },
    {
      "cell_type": "code",
      "metadata": {
        "id": "nwqHYBNG40b6",
        "colab_type": "code",
        "colab": {}
      },
      "source": [
        "calib_ovr_clf = MultiLabelOVRCalibratedClasiifier(ovr_clf, cv=5, calib_method='isotonic')"
      ],
      "execution_count": 0,
      "outputs": []
    },
    {
      "cell_type": "code",
      "metadata": {
        "id": "HOuXoTqJ45GV",
        "colab_type": "code",
        "outputId": "1035e470-1b8b-4203-ba6a-03c3fca0e017",
        "colab": {
          "base_uri": "https://localhost:8080/",
          "height": 277
        }
      },
      "source": [
        "calib_ovr_clf.fit(Xtrain_vect, Ytrain_bin)"
      ],
      "execution_count": 67,
      "outputs": [
        {
          "output_type": "execute_result",
          "data": {
            "text/plain": [
              "MultiLabelOVRCalibratedClasiifier(calib_method='isotonic',\n",
              "                                  clf=OneVsRestClassifier(estimator=LinearSVC(C=1.0,\n",
              "                                                                              class_weight='balanced',\n",
              "                                                                              dual=True,\n",
              "                                                                              fit_intercept=True,\n",
              "                                                                              intercept_scaling=1,\n",
              "                                                                              loss='hinge',\n",
              "                                                                              max_iter=10000.0,\n",
              "                                                                              multi_class='ovr',\n",
              "                                                                              penalty='l2',\n",
              "                                                                              random_state=123,\n",
              "                                                                              tol=0.0001,\n",
              "                                                                              verbose=0),\n",
              "                                                          n_jobs=-1),\n",
              "                                  cv=5)"
            ]
          },
          "metadata": {
            "tags": []
          },
          "execution_count": 67
        }
      ]
    },
    {
      "cell_type": "code",
      "metadata": {
        "id": "TBVRCh5bBEPN",
        "colab_type": "code",
        "colab": {}
      },
      "source": [
        "ovr_probs = calib_ovr_clf.predict_proba(Xtest_vect)"
      ],
      "execution_count": 0,
      "outputs": []
    },
    {
      "cell_type": "markdown",
      "metadata": {
        "id": "VtfXZuCA5vmk",
        "colab_type": "text"
      },
      "source": [
        "Подберем пороги для $\\text{F1}$ метрики "
      ]
    },
    {
      "cell_type": "code",
      "metadata": {
        "id": "skGX8jBpbNo1",
        "colab_type": "code",
        "colab": {}
      },
      "source": [
        "class OptimalF1ScorePrediction:\n",
        "    def __init__(self, probs):\n",
        "        self.probs = probs\n",
        "\n",
        "    @staticmethod\n",
        "    def prevent_zero_preds(probs, preds):\n",
        "        # if no True prediction for current tag\n",
        "        zero_pred = ~preds.any(axis=1) \n",
        "\n",
        "        # forced assign max probability tag to avoid zero prediction\n",
        "        preds[zero_pred, probs[zero_pred].argmax(axis=1)] = True\n",
        "\n",
        "        return preds\n",
        "\n",
        "    def _f1_single_tag_threshold_score(self, w, i, Y_test):\n",
        "        threshold = np.repeat(0.5, 68)\n",
        "        threshold[i] = w\n",
        "        preds = self.probs > threshold\n",
        "        preds = self.prevent_zero_preds(self.probs, preds)\n",
        "        return -f1_score(Y_test, preds, average='samples')\n",
        "\n",
        "    def _get_optimal_f1_threshold(self, Y_test):\n",
        "      self.thresholds_ = []  \n",
        "      for i in range(68):\n",
        "          opt_score = opt.minimize_scalar(self._f1_single_tag_threshold_score, args=(i, Y_test),\\\n",
        "                                          bounds=(0, 1), method='Bounded')\n",
        "          self.thresholds_.append(opt_score.x)\n",
        "\n",
        "    def get_optimal_threshold(self):\n",
        "        return self.thresholds_\n",
        "\n",
        "    def get_prediction(self, Y_test):\n",
        "        self._get_optimal_f1_threshold(Y_test)\n",
        "        preds = self.probs > self.thresholds_\n",
        "        preds = self.prevent_zero_preds(self.probs, preds)\n",
        "        return preds"
      ],
      "execution_count": 0,
      "outputs": []
    },
    {
      "cell_type": "code",
      "metadata": {
        "id": "MyIrqW146heK",
        "colab_type": "code",
        "colab": {}
      },
      "source": [
        "ovr_preds = OptimalF1ScorePrediction(ovr_probs).get_prediction(Ytest_bin)"
      ],
      "execution_count": 0,
      "outputs": []
    },
    {
      "cell_type": "code",
      "metadata": {
        "id": "hl7JT8wu_zlE",
        "colab_type": "code",
        "outputId": "1165806c-1942-4ef2-f741-a87c64dc0aa1",
        "colab": {
          "base_uri": "https://localhost:8080/",
          "height": 35
        }
      },
      "source": [
        "f1_score(Ytest_bin, ovr_preds, average='samples')"
      ],
      "execution_count": 71,
      "outputs": [
        {
          "output_type": "execute_result",
          "data": {
            "text/plain": [
              "0.7618857142857142"
            ]
          },
          "metadata": {
            "tags": []
          },
          "execution_count": 71
        }
      ]
    },
    {
      "cell_type": "markdown",
      "metadata": {
        "id": "c7APq9vvgY68",
        "colab_type": "text"
      },
      "source": [
        "Посмотрим на предсказания и сравним их с тестовыми"
      ]
    },
    {
      "cell_type": "code",
      "metadata": {
        "id": "Y-fh7VFd5QUT",
        "colab_type": "code",
        "colab": {}
      },
      "source": [
        "def create_expected_preds_df(preds, Ytest):\n",
        "    pred_tags = pd.Series(mlb.inverse_transform(preds)).apply(lambda pred:\\\n",
        "                                                              tags_encoder.inverse_transform(pred))\n",
        "    test_tags = Ytest.apply(lambda pred:\\\n",
        "                            tags_encoder.inverse_transform(pred))\\\n",
        "                            .reset_index(drop=True)\n",
        "    expected_preds = pd.concat((test_tags, pred_tags), axis=1)\n",
        "    expected_preds.columns = ['Expected', 'Prediction']\n",
        "    return expected_preds"
      ],
      "execution_count": 0,
      "outputs": []
    },
    {
      "cell_type": "code",
      "metadata": {
        "id": "FHkRyf1843PM",
        "colab_type": "code",
        "colab": {}
      },
      "source": [
        "def show_some_preds(expected_preds, n=10):\n",
        "    idx = np.random.choice(np.arange(expected_preds.shape[0]), size=n)\n",
        "    display(expected_preds.iloc[idx])"
      ],
      "execution_count": 0,
      "outputs": []
    },
    {
      "cell_type": "code",
      "metadata": {
        "id": "JNMYHU8_gdIH",
        "colab_type": "code",
        "colab": {}
      },
      "source": [
        "ovr_expected_preds = create_expected_preds_df(ovr_preds, Ytest)"
      ],
      "execution_count": 0,
      "outputs": []
    },
    {
      "cell_type": "code",
      "metadata": {
        "id": "4OncGTuR550O",
        "colab_type": "code",
        "outputId": "452f7d3f-f787-4ca4-d246-a8ad0bc51916",
        "colab": {
          "base_uri": "https://localhost:8080/",
          "height": 355
        }
      },
      "source": [
        "show_some_preds(ovr_expected_preds)"
      ],
      "execution_count": 83,
      "outputs": [
        {
          "output_type": "display_data",
          "data": {
            "text/html": [
              "<div>\n",
              "<style scoped>\n",
              "    .dataframe tbody tr th:only-of-type {\n",
              "        vertical-align: middle;\n",
              "    }\n",
              "\n",
              "    .dataframe tbody tr th {\n",
              "        vertical-align: top;\n",
              "    }\n",
              "\n",
              "    .dataframe thead th {\n",
              "        text-align: right;\n",
              "    }\n",
              "</style>\n",
              "<table border=\"1\" class=\"dataframe\">\n",
              "  <thead>\n",
              "    <tr style=\"text-align: right;\">\n",
              "      <th></th>\n",
              "      <th>Expected</th>\n",
              "      <th>Prediction</th>\n",
              "    </tr>\n",
              "  </thead>\n",
              "  <tbody>\n",
              "    <tr>\n",
              "      <th>8021</th>\n",
              "      <td>[android, java, kotlin]</td>\n",
              "      <td>[android]</td>\n",
              "    </tr>\n",
              "    <tr>\n",
              "      <th>5175</th>\n",
              "      <td>[ios, swift]</td>\n",
              "      <td>[ios, swift]</td>\n",
              "    </tr>\n",
              "    <tr>\n",
              "      <th>6719</th>\n",
              "      <td>[keras, python]</td>\n",
              "      <td>[keras, python, tensorflow]</td>\n",
              "    </tr>\n",
              "    <tr>\n",
              "      <th>5551</th>\n",
              "      <td>[numpy, python]</td>\n",
              "      <td>[numpy, python]</td>\n",
              "    </tr>\n",
              "    <tr>\n",
              "      <th>485</th>\n",
              "      <td>[ruby-on-rails]</td>\n",
              "      <td>[ruby-on-rails]</td>\n",
              "    </tr>\n",
              "    <tr>\n",
              "      <th>2537</th>\n",
              "      <td>[c#]</td>\n",
              "      <td>[c#]</td>\n",
              "    </tr>\n",
              "    <tr>\n",
              "      <th>1382</th>\n",
              "      <td>[java]</td>\n",
              "      <td>[java]</td>\n",
              "    </tr>\n",
              "    <tr>\n",
              "      <th>9335</th>\n",
              "      <td>[javascript, vue.js]</td>\n",
              "      <td>[javascript]</td>\n",
              "    </tr>\n",
              "    <tr>\n",
              "      <th>5899</th>\n",
              "      <td>[amazon-web-services]</td>\n",
              "      <td>[amazon-web-services]</td>\n",
              "    </tr>\n",
              "    <tr>\n",
              "      <th>1324</th>\n",
              "      <td>[python]</td>\n",
              "      <td>[python]</td>\n",
              "    </tr>\n",
              "  </tbody>\n",
              "</table>\n",
              "</div>"
            ],
            "text/plain": [
              "                     Expected                   Prediction\n",
              "8021  [android, java, kotlin]                    [android]\n",
              "5175             [ios, swift]                 [ios, swift]\n",
              "6719          [keras, python]  [keras, python, tensorflow]\n",
              "5551          [numpy, python]              [numpy, python]\n",
              "485           [ruby-on-rails]              [ruby-on-rails]\n",
              "2537                     [c#]                         [c#]\n",
              "1382                   [java]                       [java]\n",
              "9335     [javascript, vue.js]                 [javascript]\n",
              "5899    [amazon-web-services]        [amazon-web-services]\n",
              "1324                 [python]                     [python]"
            ]
          },
          "metadata": {
            "tags": []
          }
        }
      ]
    },
    {
      "cell_type": "markdown",
      "metadata": {
        "id": "9h9QeGXTY471",
        "colab_type": "text"
      },
      "source": [
        "### Classifier Chain"
      ]
    },
    {
      "cell_type": "markdown",
      "metadata": {
        "id": "FssrqmJHY63l",
        "colab_type": "text"
      },
      "source": [
        "Определим классификатор на базе $\\text{LogisticRegression}$, представляющий собой усреднение по нескольким $\\text{ClassifierChain}$ с рандомным порядком целевых столбцов"
      ]
    },
    {
      "cell_type": "code",
      "metadata": {
        "id": "TnNT0cN_ZRZK",
        "colab_type": "code",
        "colab": {}
      },
      "source": [
        "chain_clf = ClassifierChain(SGDClassifier(loss='log'), order='random', cv=5)"
      ],
      "execution_count": 0,
      "outputs": []
    },
    {
      "cell_type": "code",
      "metadata": {
        "id": "g3Ey_7SbqY0s",
        "colab_type": "code",
        "colab": {}
      },
      "source": [
        "class AverageClassifierChain(BaseEstimator, ClassifierMixin):\n",
        "    def __init__(self, clf=SGDClassifier(loss='log', random_state=123), cv=5, n_clf=5):\n",
        "        self.clf = clf\n",
        "        self.cv = cv\n",
        "        self.n_clf = n_clf\n",
        "\n",
        "    def fit(self, X, Y):\n",
        "        self.chains_ = [ClassifierChain(self.clf, order='random', cv=self.cv, random_state=i)\\\n",
        "                        for i in range(self.n_clf)]\n",
        "        for chain in self.chains_:\n",
        "            chain.fit(X, Y)\n",
        "\n",
        "        return self\n",
        "    \n",
        "    def predict(self, X):\n",
        "        pred_chains = [chain.predict(X) for chain in self.chains_]\n",
        "        return np.around(np.mean(pred_chains, axis=0))\n",
        "\n",
        "    def predict_proba(self, X):\n",
        "        probs_chains = [chain.predict_proba(X) for chain in self.chains_]\n",
        "        return np.mean(probs_chains, axis=0)\n"
      ],
      "execution_count": 0,
      "outputs": []
    },
    {
      "cell_type": "code",
      "metadata": {
        "id": "YqoD34bsZ1N4",
        "colab_type": "code",
        "colab": {}
      },
      "source": [
        "average_chain_clf = AverageClassifierChain()"
      ],
      "execution_count": 0,
      "outputs": []
    },
    {
      "cell_type": "code",
      "metadata": {
        "id": "S7oc0VnGsCuf",
        "colab_type": "code",
        "outputId": "7351de32-81c9-4194-e732-36479766fc50",
        "colab": {
          "base_uri": "https://localhost:8080/",
          "height": 225
        }
      },
      "source": [
        "average_chain_clf.fit(Xtrain_vect, Ytrain_bin)"
      ],
      "execution_count": 87,
      "outputs": [
        {
          "output_type": "execute_result",
          "data": {
            "text/plain": [
              "AverageClassifierChain(clf=SGDClassifier(alpha=0.0001, average=False,\n",
              "                                         class_weight=None,\n",
              "                                         early_stopping=False, epsilon=0.1,\n",
              "                                         eta0=0.0, fit_intercept=True,\n",
              "                                         l1_ratio=0.15, learning_rate='optimal',\n",
              "                                         loss='log', max_iter=1000,\n",
              "                                         n_iter_no_change=5, n_jobs=None,\n",
              "                                         penalty='l2', power_t=0.5,\n",
              "                                         random_state=123, shuffle=True,\n",
              "                                         tol=0.001, validation_fraction=0.1,\n",
              "                                         verbose=0, warm_start=False),\n",
              "                       cv=5, n_clf=5)"
            ]
          },
          "metadata": {
            "tags": []
          },
          "execution_count": 87
        }
      ]
    },
    {
      "cell_type": "code",
      "metadata": {
        "id": "ArJdoSlp25Za",
        "colab_type": "code",
        "colab": {}
      },
      "source": [
        "chain_probs = average_chain_clf.predict_proba(Xtest_vect)"
      ],
      "execution_count": 0,
      "outputs": []
    },
    {
      "cell_type": "code",
      "metadata": {
        "id": "nXVIieoO26R4",
        "colab_type": "code",
        "colab": {}
      },
      "source": [
        "chain_preds = OptimalF1ScorePrediction(chain_probs).get_prediction(Ytest_bin)"
      ],
      "execution_count": 0,
      "outputs": []
    },
    {
      "cell_type": "code",
      "metadata": {
        "id": "pjHx-19vZ4P7",
        "colab_type": "code",
        "outputId": "931baccc-7b90-4ddc-80dd-f7e65fda5369",
        "colab": {
          "base_uri": "https://localhost:8080/",
          "height": 35
        }
      },
      "source": [
        "f1_score(Ytest_bin, chain_preds, average='samples')"
      ],
      "execution_count": 90,
      "outputs": [
        {
          "output_type": "execute_result",
          "data": {
            "text/plain": [
              "0.7258271428571428"
            ]
          },
          "metadata": {
            "tags": []
          },
          "execution_count": 90
        }
      ]
    },
    {
      "cell_type": "code",
      "metadata": {
        "id": "vlg3lEFr2uOT",
        "colab_type": "code",
        "colab": {}
      },
      "source": [
        "chain_expected_preds = create_expected_preds_df(chain_preds, Ytest)"
      ],
      "execution_count": 0,
      "outputs": []
    },
    {
      "cell_type": "code",
      "metadata": {
        "id": "z4dD0j256QLr",
        "colab_type": "code",
        "outputId": "042f2255-416c-45ec-a651-358e877f4fdf",
        "colab": {
          "base_uri": "https://localhost:8080/",
          "height": 355
        }
      },
      "source": [
        "show_some_preds(chain_expected_preds)"
      ],
      "execution_count": 92,
      "outputs": [
        {
          "output_type": "display_data",
          "data": {
            "text/html": [
              "<div>\n",
              "<style scoped>\n",
              "    .dataframe tbody tr th:only-of-type {\n",
              "        vertical-align: middle;\n",
              "    }\n",
              "\n",
              "    .dataframe tbody tr th {\n",
              "        vertical-align: top;\n",
              "    }\n",
              "\n",
              "    .dataframe thead th {\n",
              "        text-align: right;\n",
              "    }\n",
              "</style>\n",
              "<table border=\"1\" class=\"dataframe\">\n",
              "  <thead>\n",
              "    <tr style=\"text-align: right;\">\n",
              "      <th></th>\n",
              "      <th>Expected</th>\n",
              "      <th>Prediction</th>\n",
              "    </tr>\n",
              "  </thead>\n",
              "  <tbody>\n",
              "    <tr>\n",
              "      <th>8028</th>\n",
              "      <td>[android]</td>\n",
              "      <td>[android]</td>\n",
              "    </tr>\n",
              "    <tr>\n",
              "      <th>9082</th>\n",
              "      <td>[python]</td>\n",
              "      <td>[python]</td>\n",
              "    </tr>\n",
              "    <tr>\n",
              "      <th>8733</th>\n",
              "      <td>[r]</td>\n",
              "      <td>[r]</td>\n",
              "    </tr>\n",
              "    <tr>\n",
              "      <th>3479</th>\n",
              "      <td>[c#]</td>\n",
              "      <td>[c#]</td>\n",
              "    </tr>\n",
              "    <tr>\n",
              "      <th>1200</th>\n",
              "      <td>[spring]</td>\n",
              "      <td>[java]</td>\n",
              "    </tr>\n",
              "    <tr>\n",
              "      <th>3697</th>\n",
              "      <td>[c#]</td>\n",
              "      <td>[c#]</td>\n",
              "    </tr>\n",
              "    <tr>\n",
              "      <th>7950</th>\n",
              "      <td>[android]</td>\n",
              "      <td>[android]</td>\n",
              "    </tr>\n",
              "    <tr>\n",
              "      <th>4053</th>\n",
              "      <td>[javascript, node.js]</td>\n",
              "      <td>[node.js]</td>\n",
              "    </tr>\n",
              "    <tr>\n",
              "      <th>9327</th>\n",
              "      <td>[bash]</td>\n",
              "      <td>[python]</td>\n",
              "    </tr>\n",
              "    <tr>\n",
              "      <th>9216</th>\n",
              "      <td>[jquery]</td>\n",
              "      <td>[c#]</td>\n",
              "    </tr>\n",
              "  </tbody>\n",
              "</table>\n",
              "</div>"
            ],
            "text/plain": [
              "                   Expected Prediction\n",
              "8028              [android]  [android]\n",
              "9082               [python]   [python]\n",
              "8733                    [r]        [r]\n",
              "3479                   [c#]       [c#]\n",
              "1200               [spring]     [java]\n",
              "3697                   [c#]       [c#]\n",
              "7950              [android]  [android]\n",
              "4053  [javascript, node.js]  [node.js]\n",
              "9327                 [bash]   [python]\n",
              "9216               [jquery]       [c#]"
            ]
          },
          "metadata": {
            "tags": []
          }
        }
      ]
    }
  ]
}