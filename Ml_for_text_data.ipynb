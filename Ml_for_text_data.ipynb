{
  "nbformat": 4,
  "nbformat_minor": 0,
  "metadata": {
    "colab": {
      "name": "Competition3_solution.ipynb",
      "provenance": [],
      "toc_visible": true,
      "machine_shape": "hm"
    },
    "kernelspec": {
      "name": "python3",
      "display_name": "Python 3"
    }
  },
  "cells": [
    {
      "cell_type": "code",
      "metadata": {
        "id": "QcLGASdIvfRC",
        "colab_type": "code",
        "colab": {}
      },
      "source": [
        "import re\n",
        "import spacy\n",
        "import io\n",
        "import numpy as np\n",
        "import pandas as pd\n",
        "import matplotlib.pyplot as plt\n",
        "import seaborn as sns\n",
        "import scipy.optimize as opt\n",
        "\n",
        "from wordcloud import WordCloud\n",
        "from bs4 import BeautifulSoup\n",
        "\n",
        "from sklearn.model_selection import train_test_split, learning_curve\n",
        "from sklearn.metrics import f1_score, make_scorer\n",
        "from sklearn.preprocessing import MultiLabelBinarizer, LabelEncoder\n",
        "from sklearn.feature_extraction.text import TfidfVectorizer, CountVectorizer\n",
        "from sklearn.decomposition import TruncatedSVD\n",
        "from sklearn.compose import ColumnTransformer\n",
        "from sklearn.pipeline import Pipeline\n",
        "from sklearn.svm import LinearSVC\n",
        "from sklearn.linear_model import LogisticRegression, SGDClassifier\n",
        "from sklearn.multiclass import OneVsRestClassifier\n",
        "from sklearn.model_selection import RandomizedSearchCV\n",
        "from sklearn.calibration import CalibratedClassifierCV\n",
        "from sklearn.multioutput import ClassifierChain\n",
        "from sklearn.base import BaseEstimator, ClassifierMixin"
      ],
      "execution_count": 0,
      "outputs": []
    },
    {
      "cell_type": "code",
      "metadata": {
        "id": "NvSy_73T8tQb",
        "colab_type": "code",
        "outputId": "932b722b-06a8-493d-82b3-aceeeb886b93",
        "colab": {
          "base_uri": "https://localhost:8080/",
          "height": 191
        }
      },
      "source": [
        "from nltk.stem import SnowballStemmer\n",
        "from nltk.stem.wordnet import WordNetLemmatizer\n",
        "from nltk import word_tokenize, pos_tag_sents, pos_tag\n",
        "from nltk.corpus import wordnet, stopwords\n",
        "from nltk.tokenize import RegexpTokenizer\n",
        "\n",
        "import nltk\n",
        "nltk.download('wordnet')\n",
        "nltk.download('stopwords')\n",
        "nltk.download('punkt')\n",
        "nltk.download('averaged_perceptron_tagger')"
      ],
      "execution_count": 2,
      "outputs": [
        {
          "output_type": "stream",
          "text": [
            "[nltk_data] Downloading package wordnet to /root/nltk_data...\n",
            "[nltk_data]   Unzipping corpora/wordnet.zip.\n",
            "[nltk_data] Downloading package stopwords to /root/nltk_data...\n",
            "[nltk_data]   Unzipping corpora/stopwords.zip.\n",
            "[nltk_data] Downloading package punkt to /root/nltk_data...\n",
            "[nltk_data]   Unzipping tokenizers/punkt.zip.\n",
            "[nltk_data] Downloading package averaged_perceptron_tagger to\n",
            "[nltk_data]     /root/nltk_data...\n",
            "[nltk_data]   Unzipping taggers/averaged_perceptron_tagger.zip.\n"
          ],
          "name": "stdout"
        },
        {
          "output_type": "execute_result",
          "data": {
            "text/plain": [
              "True"
            ]
          },
          "metadata": {
            "tags": []
          },
          "execution_count": 2
        }
      ]
    },
    {
      "cell_type": "markdown",
      "metadata": {
        "id": "X27I5I9LE2mT",
        "colab_type": "text"
      },
      "source": [
        "## Задача"
      ]
    },
    {
      "cell_type": "markdown",
      "metadata": {
        "id": "tCJag4BJE4ol",
        "colab_type": "text"
      },
      "source": [
        "По данным заголовкам и текстам вопросов с $\\text{Stack Overflow}$ научиться предсказывать к каким тэгам отнести вопрос."
      ]
    },
    {
      "cell_type": "markdown",
      "metadata": {
        "id": "k1c9_dd4vyJr",
        "colab_type": "text"
      },
      "source": [
        "## Чтение данных\n"
      ]
    },
    {
      "cell_type": "code",
      "metadata": {
        "id": "Fq-SVdEEv5X-",
        "colab_type": "code",
        "colab": {}
      },
      "source": [
        "! pip install -q kaggle"
      ],
      "execution_count": 0,
      "outputs": []
    },
    {
      "cell_type": "code",
      "metadata": {
        "id": "8t-KNyfYv6sF",
        "colab_type": "code",
        "outputId": "b379c14b-1777-4961-d000-129f7dabf303",
        "colab": {
          "resources": {
            "http://localhost:8080/nbextensions/google.colab/files.js": {
              "data": "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",
              "ok": true,
              "headers": [
                [
                  "content-type",
                  "application/javascript"
                ]
              ],
              "status": 200,
              "status_text": ""
            }
          },
          "base_uri": "https://localhost:8080/",
          "height": 93
        }
      },
      "source": [
        "from google.colab import files\n",
        "\n",
        "files.upload()"
      ],
      "execution_count": 4,
      "outputs": [
        {
          "output_type": "display_data",
          "data": {
            "text/html": [
              "\n",
              "     <input type=\"file\" id=\"files-1b66cd54-d656-4351-9194-6d3878453668\" name=\"files[]\" multiple disabled />\n",
              "     <output id=\"result-1b66cd54-d656-4351-9194-6d3878453668\">\n",
              "      Upload widget is only available when the cell has been executed in the\n",
              "      current browser session. Please rerun this cell to enable.\n",
              "      </output>\n",
              "      <script src=\"/nbextensions/google.colab/files.js\"></script> "
            ],
            "text/plain": [
              "<IPython.core.display.HTML object>"
            ]
          },
          "metadata": {
            "tags": []
          }
        },
        {
          "output_type": "stream",
          "text": [
            "Saving kaggle.json to kaggle.json\n"
          ],
          "name": "stdout"
        },
        {
          "output_type": "execute_result",
          "data": {
            "text/plain": [
              "{'kaggle.json': b'{\"username\":\"alexanderlukoyanov\",\"key\":\"569f26105c7cc1cf3b67497a507ab747\"}'}"
            ]
          },
          "metadata": {
            "tags": []
          },
          "execution_count": 4
        }
      ]
    },
    {
      "cell_type": "code",
      "metadata": {
        "id": "npo2wvYkv7tu",
        "colab_type": "code",
        "colab": {}
      },
      "source": [
        "! mkdir ~/.kaggle\n",
        "\n",
        "! cp kaggle.json ~/.kaggle/\n",
        "\n",
        "! chmod 600 ~/.kaggle/kaggle.json"
      ],
      "execution_count": 0,
      "outputs": []
    },
    {
      "cell_type": "code",
      "metadata": {
        "id": "Os92tHQgwDLi",
        "colab_type": "code",
        "outputId": "e21cd020-5eb2-45de-bedd-8da61d175c9a",
        "colab": {
          "base_uri": "https://localhost:8080/",
          "height": 211
        }
      },
      "source": [
        "! kaggle competitions download -c competition-3-yandex-shad-spring-2020"
      ],
      "execution_count": 6,
      "outputs": [
        {
          "output_type": "stream",
          "text": [
            "Warning: Looks like you're using an outdated API Version, please consider updating (server 1.5.6 / client 1.5.4)\n",
            "Downloading X_train.csv.zip to /content\n",
            "100% 642M/644M [00:05<00:00, 130MB/s]\n",
            "100% 644M/644M [00:05<00:00, 124MB/s]\n",
            "Downloading X_test.csv.zip to /content\n",
            " 84% 60.0M/71.7M [00:00<00:00, 69.5MB/s]\n",
            "100% 71.7M/71.7M [00:00<00:00, 98.1MB/s]\n",
            "Downloading Y_train.csv.zip to /content\n",
            " 75% 5.00M/6.66M [00:00<00:00, 50.7MB/s]\n",
            "100% 6.66M/6.66M [00:00<00:00, 61.3MB/s]\n"
          ],
          "name": "stdout"
        }
      ]
    },
    {
      "cell_type": "code",
      "metadata": {
        "id": "mBpl6JdHwIRS",
        "colab_type": "code",
        "colab": {}
      },
      "source": [
        "! mkdir train"
      ],
      "execution_count": 0,
      "outputs": []
    },
    {
      "cell_type": "code",
      "metadata": {
        "id": "rStB_zf1wKuF",
        "colab_type": "code",
        "outputId": "f7ab28f4-2a69-48c0-ca67-c017bd660b02",
        "colab": {
          "base_uri": "https://localhost:8080/",
          "height": 121
        }
      },
      "source": [
        " ! unzip X_train.csv.zip -d train\n",
        " ! unzip Y_train.csv.zip -d train\n",
        " ! unzip X_test.csv.zip -d train"
      ],
      "execution_count": 8,
      "outputs": [
        {
          "output_type": "stream",
          "text": [
            "Archive:  X_train.csv.zip\n",
            "  inflating: train/X_train.csv       \n",
            "Archive:  Y_train.csv.zip\n",
            "  inflating: train/Y_train.csv       \n",
            "Archive:  X_test.csv.zip\n",
            "  inflating: train/X_test.csv        \n"
          ],
          "name": "stdout"
        }
      ]
    },
    {
      "cell_type": "code",
      "metadata": {
        "id": "oeECTOm_wR2x",
        "colab_type": "code",
        "colab": {}
      },
      "source": [
        "X_train = pd.read_csv('train/X_train.csv')\n",
        "Y_train = pd.read_csv('train/Y_train.csv')\n",
        "X_test = pd.read_csv('train/X_test.csv')"
      ],
      "execution_count": 0,
      "outputs": []
    },
    {
      "cell_type": "code",
      "metadata": {
        "id": "FUhblHSbFSBK",
        "colab_type": "code",
        "outputId": "cda877ed-bc66-481d-99ca-95c5e34baa4d",
        "colab": {
          "base_uri": "https://localhost:8080/",
          "height": 387
        }
      },
      "source": [
        "display(X_train.head())\n",
        "display(Y_train.head())"
      ],
      "execution_count": 10,
      "outputs": [
        {
          "output_type": "display_data",
          "data": {
            "text/html": [
              "<div>\n",
              "<style scoped>\n",
              "    .dataframe tbody tr th:only-of-type {\n",
              "        vertical-align: middle;\n",
              "    }\n",
              "\n",
              "    .dataframe tbody tr th {\n",
              "        vertical-align: top;\n",
              "    }\n",
              "\n",
              "    .dataframe thead th {\n",
              "        text-align: right;\n",
              "    }\n",
              "</style>\n",
              "<table border=\"1\" class=\"dataframe\">\n",
              "  <thead>\n",
              "    <tr style=\"text-align: right;\">\n",
              "      <th></th>\n",
              "      <th>id</th>\n",
              "      <th>title</th>\n",
              "      <th>body</th>\n",
              "    </tr>\n",
              "  </thead>\n",
              "  <tbody>\n",
              "    <tr>\n",
              "      <th>0</th>\n",
              "      <td>56685310</td>\n",
              "      <td>onNext method doesn't fire on observable</td>\n",
              "      <td>&lt;p&gt;I have a method that returns an observable ...</td>\n",
              "    </tr>\n",
              "    <tr>\n",
              "      <th>1</th>\n",
              "      <td>55893408</td>\n",
              "      <td>TextView not positioning under ImagevVew in `C...</td>\n",
              "      <td>&lt;p&gt;I am developing android news app. and in my...</td>\n",
              "    </tr>\n",
              "    <tr>\n",
              "      <th>2</th>\n",
              "      <td>55807871</td>\n",
              "      <td>Deploying a firebase functions</td>\n",
              "      <td>&lt;p&gt;i'm trying to deploy my functions on fireba...</td>\n",
              "    </tr>\n",
              "    <tr>\n",
              "      <th>3</th>\n",
              "      <td>54842410</td>\n",
              "      <td>Share C++11 mutex on shared memory</td>\n",
              "      <td>&lt;p&gt;I want to avoid data racing in a shared mem...</td>\n",
              "    </tr>\n",
              "    <tr>\n",
              "      <th>4</th>\n",
              "      <td>55572776</td>\n",
              "      <td>Cleaning data: How to iterate through a list f...</td>\n",
              "      <td>&lt;p&gt;I am trying to iterate through a list of da...</td>\n",
              "    </tr>\n",
              "  </tbody>\n",
              "</table>\n",
              "</div>"
            ],
            "text/plain": [
              "         id  ...                                               body\n",
              "0  56685310  ...  <p>I have a method that returns an observable ...\n",
              "1  55893408  ...  <p>I am developing android news app. and in my...\n",
              "2  55807871  ...  <p>i'm trying to deploy my functions on fireba...\n",
              "3  54842410  ...  <p>I want to avoid data racing in a shared mem...\n",
              "4  55572776  ...  <p>I am trying to iterate through a list of da...\n",
              "\n",
              "[5 rows x 3 columns]"
            ]
          },
          "metadata": {
            "tags": []
          }
        },
        {
          "output_type": "display_data",
          "data": {
            "text/html": [
              "<div>\n",
              "<style scoped>\n",
              "    .dataframe tbody tr th:only-of-type {\n",
              "        vertical-align: middle;\n",
              "    }\n",
              "\n",
              "    .dataframe tbody tr th {\n",
              "        vertical-align: top;\n",
              "    }\n",
              "\n",
              "    .dataframe thead th {\n",
              "        text-align: right;\n",
              "    }\n",
              "</style>\n",
              "<table border=\"1\" class=\"dataframe\">\n",
              "  <thead>\n",
              "    <tr style=\"text-align: right;\">\n",
              "      <th></th>\n",
              "      <th>Id</th>\n",
              "      <th>Expected</th>\n",
              "    </tr>\n",
              "  </thead>\n",
              "  <tbody>\n",
              "    <tr>\n",
              "      <th>0</th>\n",
              "      <td>56685310</td>\n",
              "      <td>angular</td>\n",
              "    </tr>\n",
              "    <tr>\n",
              "      <th>1</th>\n",
              "      <td>55893408</td>\n",
              "      <td>android java</td>\n",
              "    </tr>\n",
              "    <tr>\n",
              "      <th>2</th>\n",
              "      <td>55807871</td>\n",
              "      <td>firebase</td>\n",
              "    </tr>\n",
              "    <tr>\n",
              "      <th>3</th>\n",
              "      <td>54842410</td>\n",
              "      <td>c++</td>\n",
              "    </tr>\n",
              "    <tr>\n",
              "      <th>4</th>\n",
              "      <td>55572776</td>\n",
              "      <td>list python</td>\n",
              "    </tr>\n",
              "  </tbody>\n",
              "</table>\n",
              "</div>"
            ],
            "text/plain": [
              "         Id      Expected\n",
              "0  56685310       angular\n",
              "1  55893408  android java\n",
              "2  55807871      firebase\n",
              "3  54842410           c++\n",
              "4  55572776   list python"
            ]
          },
          "metadata": {
            "tags": []
          }
        }
      ]
    },
    {
      "cell_type": "markdown",
      "metadata": {
        "id": "99wptlkYtIf4",
        "colab_type": "text"
      },
      "source": [
        "Уберем дубликаты"
      ]
    },
    {
      "cell_type": "code",
      "metadata": {
        "id": "l1oDADXstKfH",
        "colab_type": "code",
        "colab": {}
      },
      "source": [
        "X_train.drop_duplicates(['title', 'body'], inplace=True)\n",
        "Y_train = Y_train.loc[X_train.index]"
      ],
      "execution_count": 0,
      "outputs": []
    },
    {
      "cell_type": "markdown",
      "metadata": {
        "id": "vBZS4IVoF8Ge",
        "colab_type": "text"
      },
      "source": [
        "Проверим, что все $\\text{id}$ уникальны"
      ]
    },
    {
      "cell_type": "code",
      "metadata": {
        "id": "3rQ1YVuUFqor",
        "colab_type": "code",
        "outputId": "6f124faf-0346-4d2f-b7df-8738743f805c",
        "colab": {
          "base_uri": "https://localhost:8080/",
          "height": 35
        }
      },
      "source": [
        "X_train.shape[0] == X_train.id.nunique()"
      ],
      "execution_count": 12,
      "outputs": [
        {
          "output_type": "execute_result",
          "data": {
            "text/plain": [
              "True"
            ]
          },
          "metadata": {
            "tags": []
          },
          "execution_count": 12
        }
      ]
    },
    {
      "cell_type": "markdown",
      "metadata": {
        "id": "DDSiyEqTvyAh",
        "colab_type": "text"
      },
      "source": [
        "Возьмем малую подвыбрку данных, чтобы сократить вычисилтельное время"
      ]
    },
    {
      "cell_type": "code",
      "metadata": {
        "id": "4dyIwJGFv7Og",
        "colab_type": "code",
        "colab": {}
      },
      "source": [
        "X_train = X_train.iloc[:100000]\n",
        "Y_train = Y_train.iloc[:100000]"
      ],
      "execution_count": 0,
      "outputs": []
    },
    {
      "cell_type": "markdown",
      "metadata": {
        "id": "xVNfE14oyLI9",
        "colab_type": "text"
      },
      "source": [
        "## Предобработка данных"
      ]
    },
    {
      "cell_type": "markdown",
      "metadata": {
        "id": "goK8Ht-XSzGN",
        "colab_type": "text"
      },
      "source": [
        "### Выделение тэгов"
      ]
    },
    {
      "cell_type": "markdown",
      "metadata": {
        "id": "ggb1HJ1qD2Wh",
        "colab_type": "text"
      },
      "source": [
        "Определим все возможные тэги вопросов"
      ]
    },
    {
      "cell_type": "code",
      "metadata": {
        "id": "oFyFYOK087lH",
        "colab_type": "code",
        "colab": {}
      },
      "source": [
        "tags_vectorizer = CountVectorizer(tokenizer= lambda x: x.split(), binary=True)"
      ],
      "execution_count": 0,
      "outputs": []
    },
    {
      "cell_type": "code",
      "metadata": {
        "id": "OBov-1t-8-oW",
        "colab_type": "code",
        "colab": {}
      },
      "source": [
        "tags_vect = tags_vectorizer.fit_transform(Y_train.Expected)"
      ],
      "execution_count": 0,
      "outputs": []
    },
    {
      "cell_type": "code",
      "metadata": {
        "id": "5cAfqxeq83JH",
        "colab_type": "code",
        "colab": {}
      },
      "source": [
        "tags = tags_vectorizer.get_feature_names()"
      ],
      "execution_count": 0,
      "outputs": []
    },
    {
      "cell_type": "code",
      "metadata": {
        "id": "8ky9lUDP9U_6",
        "colab_type": "code",
        "colab": {}
      },
      "source": [
        "tags_counts = pd.Series(tags_vect.sum(axis=0).A1, index=tags)"
      ],
      "execution_count": 0,
      "outputs": []
    },
    {
      "cell_type": "code",
      "metadata": {
        "id": "-k9tQOBX-i9a",
        "colab_type": "code",
        "colab": {}
      },
      "source": [
        "tags_counts.sort_values(ascending=False, inplace=True)"
      ],
      "execution_count": 0,
      "outputs": []
    },
    {
      "cell_type": "markdown",
      "metadata": {
        "id": "F-jb9xRNLABg",
        "colab_type": "text"
      },
      "source": [
        "Посмотрим на частоты тэгов"
      ]
    },
    {
      "cell_type": "code",
      "metadata": {
        "id": "m2lrybTJE1kF",
        "colab_type": "code",
        "colab": {
          "base_uri": "https://localhost:8080/",
          "height": 517
        },
        "outputId": "d5ec60ee-dbdc-4590-c38a-c3ccde55a2da"
      },
      "source": [
        "print(f'Number of tags = {len(tags)}')\n",
        "tags_counts[:10].plot(kind='barh', figsize=(12, 8))\n",
        "plt.title('Top 10 tags distribuion over train data')\n",
        "plt.show()"
      ],
      "execution_count": 19,
      "outputs": [
        {
          "output_type": "stream",
          "text": [
            "Number of tags = 68\n"
          ],
          "name": "stdout"
        },
        {
          "output_type": "display_data",
          "data": {
            "image/png": "[encoded data removed]",
            "text/plain": [
              "<Figure size 864x576 with 1 Axes>"
            ]
          },
          "metadata": {
            "tags": [],
            "needs_background": "light"
          }
        }
      ]
    },
    {
      "cell_type": "code",
      "metadata": {
        "colab_type": "code",
        "id": "TN5FktNuAfp2",
        "colab": {
          "base_uri": "https://localhost:8080/",
          "height": 452
        },
        "outputId": "eaaff102-f437-40d0-a195-e1c2c8888b7c"
      },
      "source": [
        "word_cloud = WordCloud(width=1600,height=800,).generate_from_frequencies(tags_counts)\n",
        "plt.figure(figsize = (12,8))\n",
        "plt.imshow(word_cloud)\n",
        "plt.axis('off')\n",
        "plt.tight_layout(pad=0)"
      ],
      "execution_count": 20,
      "outputs": [
        {
          "output_type": "display_data",
          "data": {
            "image/png": "[encoded data removed]",
            "text/plain": [
              "<Figure size 864x576 with 1 Axes>"
            ]
          },
          "metadata": {
            "tags": [],
            "needs_background": "light"
          }
        }
      ]
    },
    {
      "cell_type": "markdown",
      "metadata": {
        "id": "LYD6-RgO6El-",
        "colab_type": "text"
      },
      "source": [
        "Посмотрим на распределние числа тэгов в вопросах"
      ]
    },
    {
      "cell_type": "code",
      "metadata": {
        "id": "qsI6X3QG7Rza",
        "colab_type": "code",
        "colab": {
          "base_uri": "https://localhost:8080/",
          "height": 295
        },
        "outputId": "cf0691f9-93b9-46c8-8cf0-eb332dfb4211"
      },
      "source": [
        "sns.countplot(tags_vect.sum(axis=1).A1)\n",
        "plt.title(\"Number of tags in questions \")\n",
        "plt.xlabel(\"Number of tags\")\n",
        "plt.ylabel(\"Frequency\")\n",
        "plt.show()"
      ],
      "execution_count": 21,
      "outputs": [
        {
          "output_type": "display_data",
          "data": {
            "image/png": "[encoded data removed]",
            "text/plain": [
              "<Figure size 432x288 with 1 Axes>"
            ]
          },
          "metadata": {
            "tags": [],
            "needs_background": "light"
          }
        }
      ]
    },
    {
      "cell_type": "markdown",
      "metadata": {
        "id": "PXCCSd9vLEoq",
        "colab_type": "text"
      },
      "source": [
        "Закодируем тэги"
      ]
    },
    {
      "cell_type": "code",
      "metadata": {
        "id": "C4Hrg90dJasw",
        "colab_type": "code",
        "colab": {}
      },
      "source": [
        "tags_encoder = LabelEncoder().fit(tags)"
      ],
      "execution_count": 0,
      "outputs": []
    },
    {
      "cell_type": "markdown",
      "metadata": {
        "id": "qceJhzs46E2R",
        "colab_type": "text"
      },
      "source": [
        "### Выделение текста и кода из тела вопроса"
      ]
    },
    {
      "cell_type": "code",
      "metadata": {
        "id": "QsUIfiWR5dmg",
        "colab_type": "code",
        "colab": {}
      },
      "source": [
        "#def extract_from_body(body):\n",
        "#    soup = BeautifulSoup(body, 'lxml')\n",
        "#    text = (tag.text for tag in soup.find_all('p'))\n",
        "#    code = (tag.text for tag in soup.find_all('code'))\n",
        "#    return ' '.join(text), ' '.join(code)"
      ],
      "execution_count": 0,
      "outputs": []
    },
    {
      "cell_type": "code",
      "metadata": {
        "id": "EK7gYe-CLutL",
        "colab_type": "code",
        "colab": {}
      },
      "source": [
        "def extract_from_body(body, tag):\n",
        "    soup = BeautifulSoup(body, 'lxml')\n",
        "    return ' '.join(t.text for t in soup.find_all(tag))"
      ],
      "execution_count": 0,
      "outputs": []
    },
    {
      "cell_type": "markdown",
      "metadata": {
        "id": "AF_wSw6pQb-1",
        "colab_type": "text"
      },
      "source": [
        "### Очистка и нормализация вопроса"
      ]
    },
    {
      "cell_type": "markdown",
      "metadata": {
        "id": "YN96WU8592hK",
        "colab_type": "text"
      },
      "source": [
        "Подготовим регулярные выражаения и возможные нормализаторы"
      ]
    },
    {
      "cell_type": "markdown",
      "metadata": {
        "id": "1Iq3v5_QTA-F",
        "colab_type": "text"
      },
      "source": [
        "Регулярки"
      ]
    },
    {
      "cell_type": "code",
      "metadata": {
        "id": "xgZnuGA2TKHD",
        "colab_type": "code",
        "colab": {}
      },
      "source": [
        "cpp = re.compile(r'c\\s*\\+\\+|c-*plus-*plus')\n",
        "csharp = re.compile(r'c\\s*#')\n",
        "python3 = re.compile(r'py(?:thon)?\\s*-*3(?:\\.\\d+)*')\n",
        "aspnet = re.compile(r'asp\\.net|aspnet|asp-net|asp\\s*net')"
      ],
      "execution_count": 0,
      "outputs": []
    },
    {
      "cell_type": "code",
      "metadata": {
        "id": "9hJUo0ufT7WJ",
        "colab_type": "code",
        "colab": {}
      },
      "source": [
        "program_lang_regexs = [('cpp', cpp), ('csharp', csharp),\\\n",
        "                       ('pythonthree', python3), ('aspnet', aspnet)]"
      ],
      "execution_count": 0,
      "outputs": []
    },
    {
      "cell_type": "code",
      "metadata": {
        "id": "BfKbgjUXWnn-",
        "colab_type": "code",
        "colab": {}
      },
      "source": [
        "replace_by_space_re = re.compile(r'[^a-z ]+')"
      ],
      "execution_count": 0,
      "outputs": []
    },
    {
      "cell_type": "markdown",
      "metadata": {
        "id": "pg3-pr_mFvpS",
        "colab_type": "text"
      },
      "source": [
        "Стоп-слова"
      ]
    },
    {
      "cell_type": "code",
      "metadata": {
        "id": "reBTTmMma1Uv",
        "colab_type": "code",
        "colab": {}
      },
      "source": [
        "stop_words = set(stopwords.words('english'))"
      ],
      "execution_count": 0,
      "outputs": []
    },
    {
      "cell_type": "markdown",
      "metadata": {
        "id": "8jCp29D1TW5X",
        "colab_type": "text"
      },
      "source": [
        "Условия на токены"
      ]
    },
    {
      "cell_type": "code",
      "metadata": {
        "id": "UJOovdsaTY_2",
        "colab_type": "code",
        "colab": {}
      },
      "source": [
        "def token_text_condition(token, stop_words):\n",
        "    return token not in stop_words and len(token) >= 2\\\n",
        "           or token == 'c' or token =='r' # because 'c' and 'r' are names of programming languages"
      ],
      "execution_count": 0,
      "outputs": []
    },
    {
      "cell_type": "code",
      "metadata": {
        "id": "DTzr4bEFTab_",
        "colab_type": "code",
        "colab": {}
      },
      "source": [
        "def token_code_condition(token, stop_words):\n",
        "    return token not in stop_words"
      ],
      "execution_count": 0,
      "outputs": []
    },
    {
      "cell_type": "markdown",
      "metadata": {
        "id": "7bl_u9wPEBh9",
        "colab_type": "text"
      },
      "source": [
        "NLTK стемминг"
      ]
    },
    {
      "cell_type": "code",
      "metadata": {
        "id": "iqZ8HYenEL3E",
        "colab_type": "code",
        "colab": {}
      },
      "source": [
        "def nltk_stem_text(stemmer, tokens, token_condition):\n",
        "    stem_tokens = (stemmer.stem(token) for token in tokens\\\n",
        "                   if token_condition(token, stop_words))\n",
        "    return ' '.join(stem_tokens)"
      ],
      "execution_count": 0,
      "outputs": []
    },
    {
      "cell_type": "code",
      "metadata": {
        "id": "spav7eszathh",
        "colab_type": "code",
        "colab": {}
      },
      "source": [
        "stemmer = SnowballStemmer('english')"
      ],
      "execution_count": 0,
      "outputs": []
    },
    {
      "cell_type": "markdown",
      "metadata": {
        "id": "LVMR0gZ4HL-7",
        "colab_type": "text"
      },
      "source": [
        "NLTK лемминг"
      ]
    },
    {
      "cell_type": "code",
      "metadata": {
        "id": "blkW1NHPHP61",
        "colab_type": "code",
        "colab": {}
      },
      "source": [
        "def is_noun(tag):\n",
        "    return tag in ['NN', 'NNS', 'NNP', 'NNPS']\n",
        "\n",
        "\n",
        "def is_verb(tag):\n",
        "    return tag in ['VB', 'VBD', 'VBG', 'VBN', 'VBP', 'VBZ']\n",
        "\n",
        "\n",
        "def is_adverb(tag):\n",
        "    return tag in ['RB', 'RBR', 'RBS']\n",
        "\n",
        "\n",
        "def is_adjective(tag):\n",
        "    return tag in ['JJ', 'JJR', 'JJS']\n",
        "\n",
        "\n",
        "def penn_to_wordnet(tag):\n",
        "    if is_adjective(tag):\n",
        "        return wordnet.ADJ\n",
        "    elif is_noun(tag):\n",
        "        return wordnet.NOUN\n",
        "    elif is_adverb(tag):\n",
        "        return wordnet.ADV\n",
        "    elif is_verb(tag):\n",
        "        return wordnet.VERB\n",
        "    return wordnet.NOUN"
      ],
      "execution_count": 0,
      "outputs": []
    },
    {
      "cell_type": "code",
      "metadata": {
        "id": "cUkA8ZS4IBlz",
        "colab_type": "code",
        "colab": {}
      },
      "source": [
        "def nltk_lemmatize_text(lemmer, clean_text, token_condition):\n",
        "    lemmas = (lemmer.lemmatize(token, penn_to_wordnet(pos)) for token, pos \\\n",
        "              in pos_tag(word_tokenize(clean_text) , lang='eng')\\\n",
        "              if token_condition(token, stop_words))\n",
        "    return ' '.join(lemmas)"
      ],
      "execution_count": 0,
      "outputs": []
    },
    {
      "cell_type": "code",
      "metadata": {
        "id": "IveDTUKeIHcJ",
        "colab_type": "code",
        "colab": {}
      },
      "source": [
        "lemmer = WordNetLemmatizer()"
      ],
      "execution_count": 0,
      "outputs": []
    },
    {
      "cell_type": "markdown",
      "metadata": {
        "id": "e8nHHuVPEDxm",
        "colab_type": "text"
      },
      "source": [
        "spaCy лемминг"
      ]
    },
    {
      "cell_type": "code",
      "metadata": {
        "id": "egJo5ux0G3Vu",
        "colab_type": "code",
        "colab": {}
      },
      "source": [
        "def scapy_lemmatize_text(nlp, clean_text, token_condition):\n",
        "    return ' '.join(token.lemma_ for token in nlp(clean_text)\\\n",
        "                    if token_condition(token.lemma_, stop_words)\\\n",
        "                    and token.lemma_ != '-PRON-')"
      ],
      "execution_count": 0,
      "outputs": []
    },
    {
      "cell_type": "code",
      "metadata": {
        "id": "57CODKGx9n3w",
        "colab_type": "code",
        "colab": {}
      },
      "source": [
        "nlp = spacy.load('en')"
      ],
      "execution_count": 0,
      "outputs": []
    },
    {
      "cell_type": "markdown",
      "metadata": {
        "id": "2tlLdb8iL90N",
        "colab_type": "text"
      },
      "source": [
        "Протестируем"
      ]
    },
    {
      "cell_type": "code",
      "metadata": {
        "id": "ZeO4Um3nGCBt",
        "colab_type": "code",
        "colab": {
          "base_uri": "https://localhost:8080/",
          "height": 87
        },
        "outputId": "1206b65e-2cf9-4e5a-9bab-df05ad11c62b"
      },
      "source": [
        "sentence = X_train['title'][15].lower()\n",
        "print(f'Origin sentence : {sentence}')\n",
        "print(f'NLTK lemma : {nltk_lemmatize_text(lemmer, sentence, token_text_condition)}')\n",
        "print(f'spaCy lemma : {scapy_lemmatize_text(nlp, sentence, token_text_condition)}')\n",
        "print(f'Stem : {nltk_stem_text(stemmer, sentence.split(), token_text_condition)}')"
      ],
      "execution_count": 38,
      "outputs": [
        {
          "output_type": "stream",
          "text": [
            "Origin sentence : how to set default class property value with a variable from another php file?\n",
            "NLTK lemma : set default class property value variable another php file\n",
            "spaCy lemma : set default class property value variable another php file\n",
            "Stem : set default class properti valu variabl anoth php file?\n"
          ],
          "name": "stdout"
        }
      ]
    },
    {
      "cell_type": "markdown",
      "metadata": {
        "id": "Fl9MG6t8R3Q4",
        "colab_type": "text"
      },
      "source": [
        "#### Текст"
      ]
    },
    {
      "cell_type": "code",
      "metadata": {
        "id": "ZAkyfdQ9SKfx",
        "colab_type": "code",
        "colab": {}
      },
      "source": [
        "def clean_text(text):\n",
        "    text = text.lower()\n",
        "    for lang_name, lang_re in program_lang_regexs:\n",
        "        text = lang_re.sub(lang_name, text)\n",
        "    text = replace_by_space_re.sub(' ', text)\n",
        "    return text"
      ],
      "execution_count": 0,
      "outputs": []
    },
    {
      "cell_type": "code",
      "metadata": {
        "id": "fGmGPYEVXd-P",
        "colab_type": "code",
        "colab": {}
      },
      "source": [
        "def clean_and_normalize_text(text, method='nltk_lemma'):\n",
        "    text = clean_text(text)\n",
        "    if method == 'nltk_lemma':\n",
        "        return nltk_lemmatize_text(lemmer, text, token_text_condition)\n",
        "    if method == 'nltk_stem':\n",
        "        return nltk_stem_text(stemmer, text.split(), token_text_condition)\n",
        "    if method == 'spacy_lemma':\n",
        "        return scapy_lemmatize_text(nlp, text, token_text_condition)"
      ],
      "execution_count": 0,
      "outputs": []
    },
    {
      "cell_type": "markdown",
      "metadata": {
        "id": "9gOw3Sl0WPc6",
        "colab_type": "text"
      },
      "source": [
        "#### Код"
      ]
    },
    {
      "cell_type": "markdown",
      "metadata": {
        "id": "Y6thkoBIKquv",
        "colab_type": "text"
      },
      "source": [
        "Токенайзер для кода"
      ]
    },
    {
      "cell_type": "code",
      "metadata": {
        "id": "R8nKh4vpe_dQ",
        "colab_type": "code",
        "colab": {}
      },
      "source": [
        "code_tokenizer = \\\n",
        "nltk.tokenize.RegexpTokenizer(r'(?![\\d\\:\\|\\s])(?:\\w{2,}|\\+\\+|\\*\\*|::|\\&\\&|\\/\\/|</|<\\!|<\\?|\\W)')"
      ],
      "execution_count": 0,
      "outputs": []
    },
    {
      "cell_type": "code",
      "metadata": {
        "id": "Y39_YaZDdwW_",
        "colab_type": "code",
        "colab": {}
      },
      "source": [
        "def clean_code(code):\n",
        "    code = code.lower()\n",
        "    for lang_name, lang_re in program_lang_regexs:\n",
        "        code = lang_re.sub(lang_name, code)\n",
        "    return code"
      ],
      "execution_count": 0,
      "outputs": []
    },
    {
      "cell_type": "code",
      "metadata": {
        "id": "fVJfduzgYlk_",
        "colab_type": "code",
        "colab": {}
      },
      "source": [
        "def clean_and_normalize_code(code):\n",
        "    code = clean_code(code)\n",
        "    return nltk_stem_text(stemmer, code_tokenizer.tokenize(code), token_code_condition)"
      ],
      "execution_count": 0,
      "outputs": []
    },
    {
      "cell_type": "markdown",
      "metadata": {
        "id": "fqt37fWIZn8I",
        "colab_type": "text"
      },
      "source": [
        "### Препроцессинг"
      ]
    },
    {
      "cell_type": "code",
      "metadata": {
        "id": "mh5T7qdmZwh5",
        "colab_type": "code",
        "colab": {}
      },
      "source": [
        "def preprocess(X, Y=None, normalize_method='nltk_lemma'):\n",
        "    if Y is not None:\n",
        "        Y['Expected'] = Y['Expected'].apply(lambda tags : tags_encoder.transform(tags.split()))\n",
        "    \n",
        "    # X['body_text'], X['body_code'] = zip(*X['body'].apply(extract_from_body))\n",
        "    X['body_text'] = X['body'].apply(lambda body: extract_from_body(body, 'p'))\n",
        "    X['body_code'] = X['body'].apply(lambda body: extract_from_body(body, 'code'))\n",
        "    X.drop(['body'], axis=1, inplace=True)\n",
        "    X['body_text'] = X['body_text'].apply(lambda text: clean_and_normalize_text(text, normalize_method))\n",
        "    X['body_code'] = X['body_code'].apply(clean_and_normalize_code)\n",
        "    X['title'] = X['title'].apply(lambda text: clean_and_normalize_text(text, normalize_method))\n",
        "    return X, Y"
      ],
      "execution_count": 0,
      "outputs": []
    },
    {
      "cell_type": "markdown",
      "metadata": {
        "id": "XXumHbP0byyf",
        "colab_type": "text"
      },
      "source": [
        "Протестируем"
      ]
    },
    {
      "cell_type": "code",
      "metadata": {
        "id": "qSzfR07bcdvb",
        "colab_type": "code",
        "colab": {}
      },
      "source": [
        "X = X_train.iloc[:5].copy()\n",
        "Y = Y_train.iloc[:5].copy()"
      ],
      "execution_count": 0,
      "outputs": []
    },
    {
      "cell_type": "code",
      "metadata": {
        "id": "O1NaYYBKb0HK",
        "colab_type": "code",
        "colab": {
          "base_uri": "https://localhost:8080/",
          "height": 473
        },
        "outputId": "fe3eed91-50b3-4173-9bc9-87bcdaa9be62"
      },
      "source": [
        "for sample in preprocess(X, Y, normalize_method='nltk_stem'):\n",
        "    display(sample)"
      ],
      "execution_count": 46,
      "outputs": [
        {
          "output_type": "display_data",
          "data": {
            "text/html": [
              "<div>\n",
              "<style scoped>\n",
              "    .dataframe tbody tr th:only-of-type {\n",
              "        vertical-align: middle;\n",
              "    }\n",
              "\n",
              "    .dataframe tbody tr th {\n",
              "        vertical-align: top;\n",
              "    }\n",
              "\n",
              "    .dataframe thead th {\n",
              "        text-align: right;\n",
              "    }\n",
              "</style>\n",
              "<table border=\"1\" class=\"dataframe\">\n",
              "  <thead>\n",
              "    <tr style=\"text-align: right;\">\n",
              "      <th></th>\n",
              "      <th>id</th>\n",
              "      <th>title</th>\n",
              "      <th>body_text</th>\n",
              "      <th>body_code</th>\n",
              "    </tr>\n",
              "  </thead>\n",
              "  <tbody>\n",
              "    <tr>\n",
              "      <th>0</th>\n",
              "      <td>56685310</td>\n",
              "      <td>onnext method fire observ</td>\n",
              "      <td>method return observ call anoth method process...</td>\n",
              "      <td>data basedata [ ] = [ ] ; initdata ( ) { . dat...</td>\n",
              "    </tr>\n",
              "    <tr>\n",
              "      <th>1</th>\n",
              "      <td>55893408</td>\n",
              "      <td>textview posit imagevvew coordinatorlayout</td>\n",
              "      <td>develop android news app list implement imag t...</td>\n",
              "      <td>textview textview imageview coordinatorlayout ...</td>\n",
              "    </tr>\n",
              "    <tr>\n",
              "      <th>2</th>\n",
              "      <td>55807871</td>\n",
              "      <td>deploy firebas function</td>\n",
              "      <td>tri deploy function firebas say parss error un...</td>\n",
              "      <td></td>\n",
              "    </tr>\n",
              "    <tr>\n",
              "      <th>3</th>\n",
              "      <td>54842410</td>\n",
              "      <td>share cpp mutex share memori</td>\n",
              "      <td>want avoid data race share memori buffer mani ...</td>\n",
              "      <td>std mutex memcpi</td>\n",
              "    </tr>\n",
              "    <tr>\n",
              "      <th>4</th>\n",
              "      <td>55572776</td>\n",
              "      <td>clean data iter list find item contain string ...</td>\n",
              "      <td>tri iter list data clean small part list want ...</td>\n",
              "      <td>line = [ ' wirkstofflist – ' , ' ' , ' ' , ' g...</td>\n",
              "    </tr>\n",
              "  </tbody>\n",
              "</table>\n",
              "</div>"
            ],
            "text/plain": [
              "         id  ...                                          body_code\n",
              "0  56685310  ...  data basedata [ ] = [ ] ; initdata ( ) { . dat...\n",
              "1  55893408  ...  textview textview imageview coordinatorlayout ...\n",
              "2  55807871  ...                                                   \n",
              "3  54842410  ...                                   std mutex memcpi\n",
              "4  55572776  ...  line = [ ' wirkstofflist – ' , ' ' , ' ' , ' g...\n",
              "\n",
              "[5 rows x 4 columns]"
            ]
          },
          "metadata": {
            "tags": []
          }
        },
        {
          "output_type": "display_data",
          "data": {
            "text/html": [
              "<div>\n",
              "<style scoped>\n",
              "    .dataframe tbody tr th:only-of-type {\n",
              "        vertical-align: middle;\n",
              "    }\n",
              "\n",
              "    .dataframe tbody tr th {\n",
              "        vertical-align: top;\n",
              "    }\n",
              "\n",
              "    .dataframe thead th {\n",
              "        text-align: right;\n",
              "    }\n",
              "</style>\n",
              "<table border=\"1\" class=\"dataframe\">\n",
              "  <thead>\n",
              "    <tr style=\"text-align: right;\">\n",
              "      <th></th>\n",
              "      <th>Id</th>\n",
              "      <th>Expected</th>\n",
              "    </tr>\n",
              "  </thead>\n",
              "  <tbody>\n",
              "    <tr>\n",
              "      <th>0</th>\n",
              "      <td>56685310</td>\n",
              "      <td>[3]</td>\n",
              "    </tr>\n",
              "    <tr>\n",
              "      <th>1</th>\n",
              "      <td>55893408</td>\n",
              "      <td>[2, 28]</td>\n",
              "    </tr>\n",
              "    <tr>\n",
              "      <th>2</th>\n",
              "      <td>55807871</td>\n",
              "      <td>[23]</td>\n",
              "    </tr>\n",
              "    <tr>\n",
              "      <th>3</th>\n",
              "      <td>54842410</td>\n",
              "      <td>[14]</td>\n",
              "    </tr>\n",
              "    <tr>\n",
              "      <th>4</th>\n",
              "      <td>55572776</td>\n",
              "      <td>[36, 46]</td>\n",
              "    </tr>\n",
              "  </tbody>\n",
              "</table>\n",
              "</div>"
            ],
            "text/plain": [
              "         Id  Expected\n",
              "0  56685310       [3]\n",
              "1  55893408   [2, 28]\n",
              "2  55807871      [23]\n",
              "3  54842410      [14]\n",
              "4  55572776  [36, 46]"
            ]
          },
          "metadata": {
            "tags": []
          }
        }
      ]
    },
    {
      "cell_type": "markdown",
      "metadata": {
        "id": "xhe4rdm8b_B7",
        "colab_type": "text"
      },
      "source": [
        "Применим преобразования к данным"
      ]
    },
    {
      "cell_type": "code",
      "metadata": {
        "id": "mZeQTH6C7Y5f",
        "colab_type": "code",
        "colab": {}
      },
      "source": [
        "X_train, Y_train = preprocess(X_train, Y_train, normalize_method='nltk_stem')"
      ],
      "execution_count": 0,
      "outputs": []
    },
    {
      "cell_type": "code",
      "metadata": {
        "id": "6Fa-KXpWFKw8",
        "colab_type": "code",
        "colab": {}
      },
      "source": [
        "X_train.to_csv('train/X_train_clean.csv', index=False)\n",
        "Y_train.to_csv('train/Y_train_bin.csv', index=False)"
      ],
      "execution_count": 0,
      "outputs": []
    },
    {
      "cell_type": "markdown",
      "metadata": {
        "id": "-A8XigwNK1Bg",
        "colab_type": "text"
      },
      "source": [
        "Чтение \"чистой\" выборки"
      ]
    },
    {
      "cell_type": "code",
      "metadata": {
        "id": "56Rka4KQK2rN",
        "colab_type": "code",
        "colab": {}
      },
      "source": [
        "X_train = pd.read_csv('train/X_train_clean.csv')"
      ],
      "execution_count": 0,
      "outputs": []
    },
    {
      "cell_type": "code",
      "metadata": {
        "id": "hzcE0L17Ub3R",
        "colab_type": "code",
        "colab": {}
      },
      "source": [
        "Y_train = pd.read_csv('train/Y_train_bin.csv')"
      ],
      "execution_count": 0,
      "outputs": []
    },
    {
      "cell_type": "code",
      "metadata": {
        "id": "tv76XdhF74P3",
        "colab_type": "code",
        "colab": {}
      },
      "source": [
        "X_train.replace(np.nan, '', inplace=True)"
      ],
      "execution_count": 0,
      "outputs": []
    },
    {
      "cell_type": "markdown",
      "metadata": {
        "id": "8floBcNVUceM",
        "colab_type": "text"
      },
      "source": [
        "Выделение обучающей и тестовой выборки"
      ]
    },
    {
      "cell_type": "code",
      "metadata": {
        "id": "G8UDQzvgFN8D",
        "colab_type": "code",
        "colab": {}
      },
      "source": [
        "Xtrain, Xtest, Ytrain, Ytest =\\\n",
        " train_test_split(X_train.drop(['id'], axis=1), Y_train.Expected,\\\n",
        "                  test_size=0.1, random_state=123)"
      ],
      "execution_count": 0,
      "outputs": []
    },
    {
      "cell_type": "markdown",
      "metadata": {
        "id": "EiwB-_KwVuj_",
        "colab_type": "text"
      },
      "source": [
        "## Векторизация текста"
      ]
    },
    {
      "cell_type": "markdown",
      "metadata": {
        "id": "mJhplr00b7gX",
        "colab_type": "text"
      },
      "source": [
        "Посчитаем $\\text{TfIdf}$ для каждого текстового признака"
      ]
    },
    {
      "cell_type": "code",
      "metadata": {
        "id": "cR_o676_YhG1",
        "colab_type": "code",
        "colab": {}
      },
      "source": [
        "tfidf_title = TfidfVectorizer(lowercase=False, decode_error='ignore', \\\n",
        "                              ngram_range=(1, 2), max_df=0.3, min_df=10,\\\n",
        "                              token_pattern=r'\\S+')"
      ],
      "execution_count": 0,
      "outputs": []
    },
    {
      "cell_type": "code",
      "metadata": {
        "id": "Q9ia2amtY1tK",
        "colab_type": "code",
        "colab": {}
      },
      "source": [
        "tfidf_body_text = TfidfVectorizer(lowercase=False, decode_error='ignore', \\\n",
        "                                  ngram_range=(1, 2), max_df=0.3, min_df=55,\\\n",
        "                                  token_pattern=r'\\S+')"
      ],
      "execution_count": 0,
      "outputs": []
    },
    {
      "cell_type": "code",
      "metadata": {
        "id": "RySccE6YY8YL",
        "colab_type": "code",
        "colab": {}
      },
      "source": [
        "tfidf_body_code = TfidfVectorizer(lowercase=False, decode_error='ignore', \\\n",
        "                                  min_df=20, token_pattern=r'\\S+')"
      ],
      "execution_count": 0,
      "outputs": []
    },
    {
      "cell_type": "code",
      "metadata": {
        "id": "Q8DyuLSpZ8Hf",
        "colab_type": "code",
        "colab": {}
      },
      "source": [
        "transformer = ColumnTransformer(\n",
        "    [\n",
        "     ('title', tfidf_title, 'title'),\n",
        "     ('body_text', tfidf_body_text, 'body_text'),\n",
        "     ('body_code', tfidf_body_code, 'body_code'),\n",
        "    ]\n",
        ")"
      ],
      "execution_count": 0,
      "outputs": []
    },
    {
      "cell_type": "markdown",
      "metadata": {
        "id": "_U9ySqvLb5rv",
        "colab_type": "text"
      },
      "source": [
        "Применим преобразование"
      ]
    },
    {
      "cell_type": "code",
      "metadata": {
        "id": "aKU0G-XjcEHD",
        "colab_type": "code",
        "outputId": "cead3170-0c67-4b40-cc5c-5e3ef54e7e88",
        "colab": {
          "base_uri": "https://localhost:8080/",
          "height": 555
        }
      },
      "source": [
        "transformer.fit(Xtrain)"
      ],
      "execution_count": 54,
      "outputs": [
        {
          "output_type": "execute_result",
          "data": {
            "text/plain": [
              "ColumnTransformer(n_jobs=None, remainder='drop', sparse_threshold=0.3,\n",
              "                  transformer_weights=None,\n",
              "                  transformers=[('title',\n",
              "                                 TfidfVectorizer(analyzer='word', binary=False,\n",
              "                                                 decode_error='ignore',\n",
              "                                                 dtype=<class 'numpy.float64'>,\n",
              "                                                 encoding='utf-8',\n",
              "                                                 input='content',\n",
              "                                                 lowercase=False, max_df=0.3,\n",
              "                                                 max_features=None, min_df=10,\n",
              "                                                 ngram_range=(1, 2), norm='l2',\n",
              "                                                 preprocessor=None,\n",
              "                                                 smoo...\n",
              "                                 TfidfVectorizer(analyzer='word', binary=False,\n",
              "                                                 decode_error='ignore',\n",
              "                                                 dtype=<class 'numpy.float64'>,\n",
              "                                                 encoding='utf-8',\n",
              "                                                 input='content',\n",
              "                                                 lowercase=False, max_df=1.0,\n",
              "                                                 max_features=None, min_df=20,\n",
              "                                                 ngram_range=(1, 1), norm='l2',\n",
              "                                                 preprocessor=None,\n",
              "                                                 smooth_idf=True,\n",
              "                                                 stop_words=None,\n",
              "                                                 strip_accents=None,\n",
              "                                                 sublinear_tf=False,\n",
              "                                                 token_pattern='\\\\S+',\n",
              "                                                 tokenizer=None, use_idf=True,\n",
              "                                                 vocabulary=None),\n",
              "                                 'body_code')],\n",
              "                  verbose=False)"
            ]
          },
          "metadata": {
            "tags": []
          },
          "execution_count": 54
        }
      ]
    },
    {
      "cell_type": "code",
      "metadata": {
        "id": "81YbP4EwcH50",
        "colab_type": "code",
        "colab": {}
      },
      "source": [
        "Xtrain_vect = transformer.transform(Xtrain)"
      ],
      "execution_count": 0,
      "outputs": []
    },
    {
      "cell_type": "code",
      "metadata": {
        "id": "-vkO9YsS1fy9",
        "colab_type": "code",
        "colab": {}
      },
      "source": [
        "Xtest_vect = transformer.transform(Xtest)"
      ],
      "execution_count": 0,
      "outputs": []
    },
    {
      "cell_type": "markdown",
      "metadata": {
        "id": "KURH8fNhF6vc",
        "colab_type": "text"
      },
      "source": [
        "Посмотрим на топ 10 слов  в каждом столбце"
      ]
    },
    {
      "cell_type": "code",
      "metadata": {
        "id": "FITbK1JYFaIT",
        "colab_type": "code",
        "colab": {}
      },
      "source": [
        "def top_n_tokens(vocabulary, vector, n):\n",
        "    topn, _ = zip(*sorted(zip(vocabulary, np.array(vector.sum(axis=0)).ravel()), \\\n",
        "                         key=lambda x: x[1], reverse=True)[:n])\n",
        "    return topn"
      ],
      "execution_count": 0,
      "outputs": []
    },
    {
      "cell_type": "code",
      "metadata": {
        "id": "QjF2mZLmD1px",
        "colab_type": "code",
        "outputId": "fe4a1484-f418-4af1-eb2a-ce982e176002",
        "colab": {
          "base_uri": "https://localhost:8080/",
          "height": 245
        }
      },
      "source": [
        "last_i = 0\n",
        "\n",
        "for name, tr, _ in transformer.transformers_:\n",
        "    voc = tr.get_feature_names()\n",
        "    vect = Xtrain_vect[last_i: len(voc)]\n",
        "    last_i = len(voc)\n",
        "    print(f'Vocabulary size for {name} = {len(voc)}')\n",
        "    print(f'Top 10 {name} tokens: {\", \".join(top_n_tokens(voc, vect, 10))}')\n",
        "    print('\\n')"
      ],
      "execution_count": 58,
      "outputs": [
        {
          "output_type": "stream",
          "text": [
            "Vocabulary size for title = 8364\n",
            "Top 10 title tokens: use, valu, file, get, function, python, error, data, work, object\n",
            "\n",
            "\n",
            "Vocabulary size for body_text = 9052\n",
            "Top 10 body_text tokens: told, featur, current look, two field, free, follow howev, includ, error log, work current, code search\n",
            "\n",
            "\n",
            "Vocabulary size for body_code = 9649\n",
            "Top 10 body_code tokens: setfrom, field2, win, •, wait, vel, slope, transfer, firebasestorag, newbuild\n",
            "\n",
            "\n"
          ],
          "name": "stdout"
        }
      ]
    },
    {
      "cell_type": "markdown",
      "metadata": {
        "id": "oDTXqHP7Kk8t",
        "colab_type": "text"
      },
      "source": [
        "## Обучение моделей"
      ]
    },
    {
      "cell_type": "markdown",
      "metadata": {
        "id": "mUab2HJ6SBzS",
        "colab_type": "text"
      },
      "source": [
        "Преобразуем тэги в бинарные векторы"
      ]
    },
    {
      "cell_type": "code",
      "metadata": {
        "id": "dXxYiNwqRxLF",
        "colab_type": "code",
        "colab": {}
      },
      "source": [
        "mlb = MultiLabelBinarizer()"
      ],
      "execution_count": 0,
      "outputs": []
    },
    {
      "cell_type": "code",
      "metadata": {
        "id": "S32JXocuRzxg",
        "colab_type": "code",
        "outputId": "63033875-80f5-4f74-d498-0e62f320e16d",
        "colab": {
          "base_uri": "https://localhost:8080/",
          "height": 35
        }
      },
      "source": [
        "mlb.fit(Ytrain)"
      ],
      "execution_count": 60,
      "outputs": [
        {
          "output_type": "execute_result",
          "data": {
            "text/plain": [
              "MultiLabelBinarizer(classes=None, sparse_output=False)"
            ]
          },
          "metadata": {
            "tags": []
          },
          "execution_count": 60
        }
      ]
    },
    {
      "cell_type": "code",
      "metadata": {
        "id": "n2FmYvP2R2Ew",
        "colab_type": "code",
        "colab": {}
      },
      "source": [
        "Ytrain_bin = mlb.transform(Ytrain)"
      ],
      "execution_count": 0,
      "outputs": []
    },
    {
      "cell_type": "code",
      "metadata": {
        "id": "rdODAIKOR97V",
        "colab_type": "code",
        "colab": {}
      },
      "source": [
        "Ytest_bin = mlb.transform(Ytest)"
      ],
      "execution_count": 0,
      "outputs": []
    },
    {
      "cell_type": "markdown",
      "metadata": {
        "id": "mh3UW_RWXKuB",
        "colab_type": "text"
      },
      "source": [
        "\n",
        "### Binary Relevance Method"
      ]
    },
    {
      "cell_type": "markdown",
      "metadata": {
        "id": "dWMysw5NUGKe",
        "colab_type": "text"
      },
      "source": [
        "Определим $\\text{SVM}$ классификатор с $\\text{OVR}$ подходом для решения мульти-лэйбел задачи"
      ]
    },
    {
      "cell_type": "code",
      "metadata": {
        "id": "oUTUxNmnMZ29",
        "colab_type": "code",
        "colab": {}
      },
      "source": [
        "clf = LinearSVC(loss='hinge', class_weight='balanced', random_state=123)"
      ],
      "execution_count": 0,
      "outputs": []
    },
    {
      "cell_type": "code",
      "metadata": {
        "id": "CXUFeE5lTrK5",
        "colab_type": "code",
        "colab": {}
      },
      "source": [
        "ovr_clf = OneVsRestClassifier(clf, n_jobs=-1)"
      ],
      "execution_count": 0,
      "outputs": []
    },
    {
      "cell_type": "markdown",
      "metadata": {
        "id": "aMkpfidabR9-",
        "colab_type": "text"
      },
      "source": [
        "Подберем гиперпараметры"
      ]
    },
    {
      "cell_type": "code",
      "metadata": {
        "id": "RC-J8oTSdADw",
        "colab_type": "code",
        "colab": {}
      },
      "source": [
        "def plot_search_cv_scores(clf, clf_name):\n",
        "    _, ax = plt.subplots(figsize=(12, 8))\n",
        "    data = pd.DataFrame(clf.cv_results_)\n",
        "    scores = data['mean_test_score']\n",
        "    std_scores = data['std_test_score']\n",
        "    best_index = clf.best_index_\n",
        "    x = range(data.shape[0])\n",
        "    ax.set_xticks(x)\n",
        "    ax.set_xlabel('Params index')\n",
        "    ax.set_ylabel('F1 score')\n",
        "    ax.set_title('{} Search CV F1 score'.format(clf_name))\n",
        "    ax.plot(x, scores)\n",
        "    ax.fill_between(x, scores - std_scores, scores + std_scores, alpha=0.2)\n",
        "    ax.scatter(best_index, scores[best_index], label='Score for best clf')\n",
        "    ax.grid()\n",
        "    ax.legend()\n",
        "    plt.show()"
      ],
      "execution_count": 0,
      "outputs": []
    },
    {
      "cell_type": "code",
      "metadata": {
        "id": "lyTROcuKan7b",
        "colab_type": "code",
        "colab": {}
      },
      "source": [
        "C_grid = np.logspace(-5, 5, base=10, num=11)\n",
        "max_iter_grid = np.logspace(3, 8, base=10, num=6)"
      ],
      "execution_count": 0,
      "outputs": []
    },
    {
      "cell_type": "code",
      "metadata": {
        "id": "RgCqdxcfYXbk",
        "colab_type": "code",
        "colab": {}
      },
      "source": [
        "param_distrib = {'estimator__C': C_grid, 'estimator__max_iter': max_iter_grid}"
      ],
      "execution_count": 0,
      "outputs": []
    },
    {
      "cell_type": "code",
      "metadata": {
        "id": "3vWRK0O7YEC3",
        "colab_type": "code",
        "colab": {}
      },
      "source": [
        "random_searcher = \\\n",
        "RandomizedSearchCV(ovr_clf, param_distrib, n_iter=5, n_jobs=5,\\\n",
        "                   scoring=make_scorer(f1_score, average='samples'), random_state=123, cv=5)"
      ],
      "execution_count": 0,
      "outputs": []
    },
    {
      "cell_type": "code",
      "metadata": {
        "id": "17u8Sjb0BDYy",
        "colab_type": "code",
        "colab": {
          "base_uri": "https://localhost:8080/",
          "height": 139
        },
        "outputId": "8a6a2880-8ad0-4ecd-eae6-5d52dfc1ffd3"
      },
      "source": [
        "ovr_clf.fit(Xtrain_vect, Ytrain_bin)"
      ],
      "execution_count": 75,
      "outputs": [
        {
          "output_type": "execute_result",
          "data": {
            "text/plain": [
              "OneVsRestClassifier(estimator=LinearSVC(C=1.0, class_weight='balanced',\n",
              "                                        dual=True, fit_intercept=True,\n",
              "                                        intercept_scaling=1, loss='hinge',\n",
              "                                        max_iter=1000, multi_class='ovr',\n",
              "                                        penalty='l2', random_state=123,\n",
              "                                        tol=0.0001, verbose=0),\n",
              "                    n_jobs=-1)"
            ]
          },
          "metadata": {
            "tags": []
          },
          "execution_count": 75
        }
      ]
    },
    {
      "cell_type": "code",
      "metadata": {
        "id": "ZNIoUPQgbLAy",
        "colab_type": "code",
        "outputId": "c0fa4177-9e5d-4944-e315-fbd28312e562",
        "colab": {
          "base_uri": "https://localhost:8080/",
          "height": 436
        }
      },
      "source": [
        "random_searcher.fit(Xtrain_vect, Ytrain_bin)"
      ],
      "execution_count": 78,
      "outputs": [
        {
          "output_type": "stream",
          "text": [
            "/usr/local/lib/python3.6/dist-packages/joblib/externals/loky/process_executor.py:706: UserWarning: A worker stopped while some jobs were given to the executor. This can be caused by a too short worker timeout or by a memory leak.\n",
            "  \"timeout or by a memory leak.\", UserWarning\n"
          ],
          "name": "stderr"
        },
        {
          "output_type": "execute_result",
          "data": {
            "text/plain": [
              "RandomizedSearchCV(cv=5, error_score=nan,\n",
              "                   estimator=OneVsRestClassifier(estimator=LinearSVC(C=1.0,\n",
              "                                                                     class_weight='balanced',\n",
              "                                                                     dual=True,\n",
              "                                                                     fit_intercept=True,\n",
              "                                                                     intercept_scaling=1,\n",
              "                                                                     loss='hinge',\n",
              "                                                                     max_iter=1000,\n",
              "                                                                     multi_class='ovr',\n",
              "                                                                     penalty='l2',\n",
              "                                                                     random_state=123,\n",
              "                                                                     tol=0.0001,\n",
              "                                                                     verbose=0),\n",
              "                                                 n_jobs=-1),\n",
              "                   iid='deprecated', n_iter=5, n_jobs=5,\n",
              "                   param_distributions={'estimator__C': array([1.e-05, 1.e-04, 1.e-03, 1.e-02, 1.e-01, 1.e+00, 1.e+01, 1.e+02,\n",
              "       1.e+03, 1.e+04, 1.e+05]),\n",
              "                                        'estimator__max_iter': array([1.e+03, 1.e+04, 1.e+05, 1.e+06, 1.e+07, 1.e+08])},\n",
              "                   pre_dispatch='2*n_jobs', random_state=123, refit=True,\n",
              "                   return_train_score=False,\n",
              "                   scoring=make_scorer(f1_score, average=samples), verbose=0)"
            ]
          },
          "metadata": {
            "tags": []
          },
          "execution_count": 78
        }
      ]
    },
    {
      "cell_type": "code",
      "metadata": {
        "id": "6vszoTJdbliB",
        "colab_type": "code",
        "colab": {
          "base_uri": "https://localhost:8080/",
          "height": 69
        },
        "outputId": "f0799925-d53b-4212-8ef6-f572d63e19b5"
      },
      "source": [
        "print(f'Best params: {random_searcher.best_params_}')\n",
        "print(f'Best score: {random_searcher.best_score_}')\n",
        "print(f'Test score: {f1_score(Ytest_bin, random_searcher.predict(Xtest_vect), average=\"samples\")}')"
      ],
      "execution_count": 79,
      "outputs": [
        {
          "output_type": "stream",
          "text": [
            "Best params: {'estimator__max_iter': 10000.0, 'estimator__C': 1.0}\n",
            "Best score: 0.6967973809523811\n",
            "Test score: 0.7058419047619047\n"
          ],
          "name": "stdout"
        }
      ]
    },
    {
      "cell_type": "code",
      "metadata": {
        "id": "xpp5LqsKdcpc",
        "colab_type": "code",
        "colab": {
          "base_uri": "https://localhost:8080/",
          "height": 513
        },
        "outputId": "21407cae-80ad-4596-9c81-68295e566fad"
      },
      "source": [
        "plot_search_cv_scores(random_searcher, 'Random')"
      ],
      "execution_count": 80,
      "outputs": [
        {
          "output_type": "display_data",
          "data": {
            "image/png": "[encoded data removed]",
            "text/plain": [
              "<Figure size 864x576 with 1 Axes>"
            ]
          },
          "metadata": {
            "tags": [],
            "needs_background": "light"
          }
        }
      ]
    },
    {
      "cell_type": "code",
      "metadata": {
        "id": "aVd30fDFby8P",
        "colab_type": "code",
        "colab": {}
      },
      "source": [
        "ovr_clf = random_searcher.best_estimator_"
      ],
      "execution_count": 0,
      "outputs": []
    },
    {
      "cell_type": "markdown",
      "metadata": {
        "id": "qDs-iOASr0jV",
        "colab_type": "text"
      },
      "source": [
        "Напишем классифкатор-обертку, калибрующий предсказания для $\\text{OVR}$ мульти-лэйбел подхода"
      ]
    },
    {
      "cell_type": "code",
      "metadata": {
        "id": "rx_CMGWq2vS3",
        "colab_type": "code",
        "colab": {}
      },
      "source": [
        "class MultiLabelOVRCalibratedClasiifier(BaseEstimator, ClassifierMixin):\n",
        "    def __init__(self, clf=OneVsRestClassifier(SGDClassifier()), cv=5, calib_method='isotonic'):\n",
        "        self.clf = clf\n",
        "        self.cv = cv\n",
        "        self.calib_method = calib_method\n",
        "\n",
        "    def fit(self, X, Y):\n",
        "        assert len(Y.shape) == 2 and np.all((Y == 0) | (Y == 1)), 'Y should be in MultilabelBinarize form'\n",
        "        \n",
        "        self.clf.fit(X, Y)\n",
        "        assert hasattr(self.clf, 'estimators_'), 'Base classifier should be OVR'\n",
        "\n",
        "        self.calib_clfs_ = []\n",
        "\n",
        "        for i, estimator in enumerate(self.clf.estimators_):\n",
        "            y = np.apply_along_axis(lambda row: 1 if row[i] == 1 else 0 , axis=1, arr=Y)\n",
        "            calib_clf_cv = CalibratedClassifierCV(self.clf, method=self.calib_method, cv=self.cv)\n",
        "            calib_clf_cv.fit(X, y)\n",
        "            self.calib_clfs_.append(calib_clf_cv)\n",
        "\n",
        "        return self\n",
        "    \n",
        "    def predict(self, X):\n",
        "        return self.clf.predict(X)\n",
        "\n",
        "    def predict_proba(self, X):\n",
        "        probs_cv = None\n",
        "\n",
        "        for calib_clf_cv in self.calib_clfs_:\n",
        "            probs_i_cv = calib_clf_cv.predict_proba(X)[:, 1].reshape(-1, 1)\n",
        "            if probs_cv is None:\n",
        "                probs_cv = probs_i_cv\n",
        "            else:\n",
        "                probs_cv = np.hstack((probs_cv, probs_i_cv))\n",
        "\n",
        "        return probs_cv"
      ],
      "execution_count": 0,
      "outputs": []
    },
    {
      "cell_type": "code",
      "metadata": {
        "id": "nwqHYBNG40b6",
        "colab_type": "code",
        "colab": {}
      },
      "source": [
        "calib_ovr_clf = MultiLabelOVRCalibratedClasiifier(ovr_clf, cv=5, calib_method='isotonic')"
      ],
      "execution_count": 0,
      "outputs": []
    },
    {
      "cell_type": "code",
      "metadata": {
        "id": "HOuXoTqJ45GV",
        "colab_type": "code",
        "outputId": "92cb527f-0567-463c-cd62-0374bdbdf6e9",
        "colab": {
          "base_uri": "https://localhost:8080/",
          "height": 277
        }
      },
      "source": [
        "calib_ovr_clf.fit(Xtrain_vect, Ytrain_bin)"
      ],
      "execution_count": 205,
      "outputs": [
        {
          "output_type": "execute_result",
          "data": {
            "text/plain": [
              "MultiLabelOVRCalibratedClasiifier(calib_method='isotonic',\n",
              "                                  clf=OneVsRestClassifier(estimator=LinearSVC(C=1.0,\n",
              "                                                                              class_weight='balanced',\n",
              "                                                                              dual=True,\n",
              "                                                                              fit_intercept=True,\n",
              "                                                                              intercept_scaling=1,\n",
              "                                                                              loss='hinge',\n",
              "                                                                              max_iter=10000.0,\n",
              "                                                                              multi_class='ovr',\n",
              "                                                                              penalty='l2',\n",
              "                                                                              random_state=123,\n",
              "                                                                              tol=0.0001,\n",
              "                                                                              verbose=0),\n",
              "                                                          n_jobs=-1),\n",
              "                                  cv=5)"
            ]
          },
          "metadata": {
            "tags": []
          },
          "execution_count": 205
        }
      ]
    },
    {
      "cell_type": "code",
      "metadata": {
        "id": "TBVRCh5bBEPN",
        "colab_type": "code",
        "colab": {}
      },
      "source": [
        "ovr_probs = calib_ovr_clf.predict_proba(Xtest_vect)"
      ],
      "execution_count": 0,
      "outputs": []
    },
    {
      "cell_type": "markdown",
      "metadata": {
        "id": "VtfXZuCA5vmk",
        "colab_type": "text"
      },
      "source": [
        "Подберем пороги для $\\text{F1}$ метрики "
      ]
    },
    {
      "cell_type": "code",
      "metadata": {
        "id": "skGX8jBpbNo1",
        "colab_type": "code",
        "colab": {}
      },
      "source": [
        "class OptimalF1ScorePrediction:\n",
        "    def __init__(self, probs):\n",
        "        self.probs = probs\n",
        "\n",
        "    @staticmethod\n",
        "    def prevent_zero_preds(probs, preds):\n",
        "        # if no True prediction for current tag\n",
        "        zero_pred = ~preds.any(axis=1) \n",
        "\n",
        "        # forced assign max probability tag to avoid zero prediction\n",
        "        preds[zero_pred, probs[zero_pred].argmax(axis=1)] = True\n",
        "\n",
        "        return preds\n",
        "\n",
        "    def _f1_single_tag_threshold_score(self, w, i, Y_test):\n",
        "        threshold = np.repeat(0.5, 68)\n",
        "        threshold[i] = w\n",
        "        preds = self.probs > threshold\n",
        "        preds = self.prevent_zero_preds(self.probs, preds)\n",
        "        return -f1_score(Y_test, preds, average='samples')\n",
        "\n",
        "    def _get_optimal_f1_threshold(self, Y_test):\n",
        "      self.thresholds_ = []  \n",
        "      for i in range(68):\n",
        "          opt_score = opt.minimize_scalar(self._f1_single_tag_threshold_score, args=(i, Y_test),\\\n",
        "                                          bounds=(0, 1), method='Bounded')\n",
        "          self.thresholds_.append(opt_score.x)\n",
        "\n",
        "    def get_optimal_threshold(self):\n",
        "        return self.thresholds_\n",
        "\n",
        "    def get_prediction(self, Y_test):\n",
        "        self._get_optimal_f1_threshold(Y_test)\n",
        "        preds = self.probs > self.thresholds_\n",
        "        preds = self.prevent_zero_preds(self.probs, preds)\n",
        "        return preds"
      ],
      "execution_count": 0,
      "outputs": []
    },
    {
      "cell_type": "code",
      "metadata": {
        "id": "MyIrqW146heK",
        "colab_type": "code",
        "colab": {}
      },
      "source": [
        "preds = OptimalF1ScorePrediction(ovr_probs).get_prediction(Ytest_bin)"
      ],
      "execution_count": 0,
      "outputs": []
    },
    {
      "cell_type": "code",
      "metadata": {
        "id": "hl7JT8wu_zlE",
        "colab_type": "code",
        "outputId": "ddc5075d-bd8a-47f8-c951-2444ccef12a0",
        "colab": {
          "base_uri": "https://localhost:8080/",
          "height": 35
        }
      },
      "source": [
        "f1_score(Ytest_bin, preds, average='samples')"
      ],
      "execution_count": 225,
      "outputs": [
        {
          "output_type": "execute_result",
          "data": {
            "text/plain": [
              "0.7618857142857142"
            ]
          },
          "metadata": {
            "tags": []
          },
          "execution_count": 225
        }
      ]
    },
    {
      "cell_type": "markdown",
      "metadata": {
        "id": "c7APq9vvgY68",
        "colab_type": "text"
      },
      "source": [
        "Посмотрим на предсказания и сравним их с тестовыми"
      ]
    },
    {
      "cell_type": "code",
      "metadata": {
        "id": "jbYZjc_RMzb8",
        "colab_type": "code",
        "colab": {}
      },
      "source": [
        "pred_tags = pd.Series(mlb.inverse_transform(preds)).apply(lambda pred: tags_encoder.inverse_transform(pred))"
      ],
      "execution_count": 0,
      "outputs": []
    },
    {
      "cell_type": "code",
      "metadata": {
        "id": "8ExbBrtZhGLe",
        "colab_type": "code",
        "colab": {}
      },
      "source": [
        "test_tags = Ytest.apply(lambda pred: tags_encoder.inverse_transform(pred)).reset_index(drop=True)"
      ],
      "execution_count": 0,
      "outputs": []
    },
    {
      "cell_type": "code",
      "metadata": {
        "id": "eJGliwvUhjRG",
        "colab_type": "code",
        "colab": {}
      },
      "source": [
        "expect_pred = pd.concat((test_tags, pred_tags), axis=1)\n",
        "expect_pred.columns = ['Expected', 'Prediction']"
      ],
      "execution_count": 0,
      "outputs": []
    },
    {
      "cell_type": "code",
      "metadata": {
        "id": "JNMYHU8_gdIH",
        "colab_type": "code",
        "colab": {
          "base_uri": "https://localhost:8080/",
          "height": 415
        },
        "outputId": "f318c5c7-0293-46c2-880e-91eff478920f"
      },
      "source": [
        "display(expect_pred)"
      ],
      "execution_count": 268,
      "outputs": [
        {
          "output_type": "display_data",
          "data": {
            "text/html": [
              "<div>\n",
              "<style scoped>\n",
              "    .dataframe tbody tr th:only-of-type {\n",
              "        vertical-align: middle;\n",
              "    }\n",
              "\n",
              "    .dataframe tbody tr th {\n",
              "        vertical-align: top;\n",
              "    }\n",
              "\n",
              "    .dataframe thead th {\n",
              "        text-align: right;\n",
              "    }\n",
              "</style>\n",
              "<table border=\"1\" class=\"dataframe\">\n",
              "  <thead>\n",
              "    <tr style=\"text-align: right;\">\n",
              "      <th></th>\n",
              "      <th>Expected</th>\n",
              "      <th>Prediction</th>\n",
              "    </tr>\n",
              "  </thead>\n",
              "  <tbody>\n",
              "    <tr>\n",
              "      <th>0</th>\n",
              "      <td>[typescript]</td>\n",
              "      <td>[angular]</td>\n",
              "    </tr>\n",
              "    <tr>\n",
              "      <th>1</th>\n",
              "      <td>[excel, vba]</td>\n",
              "      <td>[excel, vba]</td>\n",
              "    </tr>\n",
              "    <tr>\n",
              "      <th>2</th>\n",
              "      <td>[css, html, javascript]</td>\n",
              "      <td>[css, html, javascript]</td>\n",
              "    </tr>\n",
              "    <tr>\n",
              "      <th>3</th>\n",
              "      <td>[android, java]</td>\n",
              "      <td>[android]</td>\n",
              "    </tr>\n",
              "    <tr>\n",
              "      <th>4</th>\n",
              "      <td>[arrays]</td>\n",
              "      <td>[arrays]</td>\n",
              "    </tr>\n",
              "    <tr>\n",
              "      <th>...</th>\n",
              "      <td>...</td>\n",
              "      <td>...</td>\n",
              "    </tr>\n",
              "    <tr>\n",
              "      <th>9995</th>\n",
              "      <td>[r]</td>\n",
              "      <td>[r]</td>\n",
              "    </tr>\n",
              "    <tr>\n",
              "      <th>9996</th>\n",
              "      <td>[git]</td>\n",
              "      <td>[git]</td>\n",
              "    </tr>\n",
              "    <tr>\n",
              "      <th>9997</th>\n",
              "      <td>[python]</td>\n",
              "      <td>[python]</td>\n",
              "    </tr>\n",
              "    <tr>\n",
              "      <th>9998</th>\n",
              "      <td>[javascript]</td>\n",
              "      <td>[javascript]</td>\n",
              "    </tr>\n",
              "    <tr>\n",
              "      <th>9999</th>\n",
              "      <td>[javascript]</td>\n",
              "      <td>[javascript]</td>\n",
              "    </tr>\n",
              "  </tbody>\n",
              "</table>\n",
              "<p>10000 rows × 2 columns</p>\n",
              "</div>"
            ],
            "text/plain": [
              "                     Expected               Prediction\n",
              "0                [typescript]                [angular]\n",
              "1                [excel, vba]             [excel, vba]\n",
              "2     [css, html, javascript]  [css, html, javascript]\n",
              "3             [android, java]                [android]\n",
              "4                    [arrays]                 [arrays]\n",
              "...                       ...                      ...\n",
              "9995                      [r]                      [r]\n",
              "9996                    [git]                    [git]\n",
              "9997                 [python]                 [python]\n",
              "9998             [javascript]             [javascript]\n",
              "9999             [javascript]             [javascript]\n",
              "\n",
              "[10000 rows x 2 columns]"
            ]
          },
          "metadata": {
            "tags": []
          }
        }
      ]
    },
    {
      "cell_type": "code",
      "metadata": {
        "id": "66SkK_YduxQi",
        "colab_type": "code",
        "colab": {}
      },
      "source": [
        "def plot_leraning_curve(clf, clf_name, train_x, train_y, cv, ax):\n",
        "    train_sizes, train_scores, test_scores = learning_curve(\n",
        "        estimator=clf, \\\n",
        "        X=train_x, \\\n",
        "        y = train_y, \\\n",
        "        train_sizes=np.linspace(0.1, 1.0, 5), \\\n",
        "        cv=cv, \\\n",
        "        scoring=make_scorer(f1_score, average='samples'))\n",
        "    \n",
        "    train_scores_mean = train_scores.mean(axis=1)\n",
        "    test_scores_mean = test_scores.mean(axis=1)\n",
        "    train_scores_std = np.std(train_scores, axis=1)\n",
        "    test_scores_std = np.std(test_scores, axis=1)\n",
        "    \n",
        "    ax.plot(train_sizes, train_scores_mean, label='Training score', color='r')\n",
        "    ax.fill_between(train_sizes, \\\n",
        "                     train_scores_mean - train_scores_std, \\\n",
        "                     train_scores_mean + train_scores_std, \\\n",
        "                     alpha=0.1, color='r')\n",
        "    ax.plot(train_sizes, test_scores_mean, label='Testing score', color='g')\n",
        "    ax.fill_between(train_sizes, \\\n",
        "                     test_scores_mean - test_scores_std, \\\n",
        "                     test_scores_mean + test_scores_std, \\\n",
        "                     alpha=0.1, color='g')\n",
        "    ax.set_ylabel('F1 CV score')\n",
        "    ax.set_xlabel('Training set size')\n",
        "    ax.set_title('Learning curve for a {}'.format(clf_name), y = 1.03)\n",
        "    ax.legend(loc='best')\n",
        "    ax.grid()"
      ],
      "execution_count": 0,
      "outputs": []
    },
    {
      "cell_type": "code",
      "metadata": {
        "id": "TDRtBLQuvWet",
        "colab_type": "code",
        "colab": {
          "base_uri": "https://localhost:8080/",
          "height": 72
        },
        "outputId": "0793baca-4aa6-4c38-9bf0-48f2d90ba4c4"
      },
      "source": [
        "_, ax = plt.subplots(figsize=(12, 8))\n",
        "plot_leraning_curve(calib_ovr_clf, 'Calibrated OVR', Xtrain_vect[5000:100000], Ytrain_bin[5000:100000].copy(), 3, ax)"
      ],
      "execution_count": 0,
      "outputs": [
        {
          "output_type": "stream",
          "text": [
            "/usr/local/lib/python3.6/dist-packages/joblib/externals/loky/process_executor.py:706: UserWarning: A worker stopped while some jobs were given to the executor. This can be caused by a too short worker timeout or by a memory leak.\n",
            "  \"timeout or by a memory leak.\", UserWarning\n"
          ],
          "name": "stderr"
        }
      ]
    },
    {
      "cell_type": "markdown",
      "metadata": {
        "id": "baPdhBA8i8MO",
        "colab_type": "text"
      },
      "source": [
        "### Classifier Chain"
      ]
    },
    {
      "cell_type": "code",
      "metadata": {
        "id": "uoZstJqqobQE",
        "colab_type": "code",
        "colab": {}
      },
      "source": [
        "chain_clf = ClassifierChain(SGDClassifier(loss='log'), order='random', random_state=123, cv=5)"
      ],
      "execution_count": 0,
      "outputs": []
    },
    {
      "cell_type": "code",
      "metadata": {
        "id": "9GwZqWBVpACE",
        "colab_type": "code",
        "outputId": "0567b11c-58b2-4b26-ccf6-18280c32303c",
        "colab": {
          "base_uri": "https://localhost:8080/",
          "height": 139
        }
      },
      "source": [
        "chain_clf.fit(Xtrain_vect, Ytrain_bin)"
      ],
      "execution_count": 287,
      "outputs": [
        {
          "output_type": "execute_result",
          "data": {
            "text/plain": [
              "ClassifierChain(base_estimator=LinearSVC(C=1.0, class_weight='balanced',\n",
              "                                         dual=True, fit_intercept=True,\n",
              "                                         intercept_scaling=1, loss='hinge',\n",
              "                                         max_iter=1000, multi_class='ovr',\n",
              "                                         penalty='l2', random_state=123,\n",
              "                                         tol=0.0001, verbose=0),\n",
              "                cv=5, order='random', random_state=123)"
            ]
          },
          "metadata": {
            "tags": []
          },
          "execution_count": 287
        }
      ]
    },
    {
      "cell_type": "code",
      "metadata": {
        "id": "4R6tZYLxsqjA",
        "colab_type": "code",
        "colab": {}
      },
      "source": [
        "calib_chain_clf = MultiLabelOVRCalibratedClasiifier(chain_clf, cv=5, calib_method='isotonic')"
      ],
      "execution_count": 0,
      "outputs": []
    },
    {
      "cell_type": "code",
      "metadata": {
        "id": "MWyBjObZt2Sh",
        "colab_type": "code",
        "colab": {}
      },
      "source": [
        "chain_probs = calib_chain_clf.predict_proba(Xtest_vect)"
      ],
      "execution_count": 0,
      "outputs": []
    },
    {
      "cell_type": "code",
      "metadata": {
        "id": "MELYxOmItyUK",
        "colab_type": "code",
        "colab": {}
      },
      "source": [
        "chain_preds = OptimalF1ScorePrediction(chain_probs).get_prediction(Ytest_bin)"
      ],
      "execution_count": 0,
      "outputs": []
    },
    {
      "cell_type": "code",
      "metadata": {
        "id": "g4ztZx_cricL",
        "colab_type": "code",
        "outputId": "f81daf9c-2fc1-45c5-c5e0-f2980b3ded94",
        "colab": {
          "base_uri": "https://localhost:8080/",
          "height": 35
        }
      },
      "source": [
        "f1_score(Ytest_bin, chain_preds, average='samples')"
      ],
      "execution_count": 289,
      "outputs": [
        {
          "output_type": "execute_result",
          "data": {
            "text/plain": [
              "0.7109242857142857"
            ]
          },
          "metadata": {
            "tags": []
          },
          "execution_count": 289
        }
      ]
    },
    {
      "cell_type": "code",
      "metadata": {
        "id": "u_isNH3-KZwQ",
        "colab_type": "code",
        "colab": {}
      },
      "source": [
        ""
      ],
      "execution_count": 0,
      "outputs": []
    }
  ]
}